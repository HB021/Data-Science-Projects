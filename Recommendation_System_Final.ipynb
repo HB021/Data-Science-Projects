{
  "cells": [
    {
      "cell_type": "markdown",
      "metadata": {
        "id": "pXQzH0nC5JtP"
      },
      "source": [
        "# **Project: Amazon Product Recommendation System**\n",
        "\n"
      ]
    },
    {
      "cell_type": "markdown",
      "source": [
        "Welcome to the project on Recommendation Systems. We will work with the Amazon product reviews dataset for this project. The dataset contains ratings of different electronic products. It does not include information about the products or reviews to avoid bias while building the model.\n",
        "\n"
      ],
      "metadata": {
        "id": "hsN_Fi-ydurx"
      }
    },
    {
      "cell_type": "markdown",
      "source": [
        "## **Context:**\n",
        "\n"
      ],
      "metadata": {
        "id": "35NsbMx1dzBk"
      }
    },
    {
      "cell_type": "markdown",
      "source": [
        "Today, information is growing exponentially with volume, velocity and variety throughout the globe. This has lead to information overload, and too many choices for the consumer of any business. It represents a real dilemma for these consumers and they often turn to denial. Recommender Systems are one of the best tools that help recommending products to consumers while they are browsing online. Providing personalized recommendations which is most relevant for the user is what's most likely to keep them engaged and help business.\n",
        "\n",
        "E-commerce websites like Amazon, Walmart, Target and Etsy use different recommendation models to provide personalized suggestions to different users. These companies spend millions of dollars to come up with algorithmic techniques that can provide personalized recommendations to their users.\n",
        "\n",
        "Amazon, for example, is well-known for its accurate selection of recommendations in its online site. Amazon's recommendation system is capable of intelligently analyzing and predicting customers' shopping preferences in order to offer them a list of recommended products. Amazon's recommendation algorithm is therefore a key element in using AI to improve the personalization of its website. For example, one of the baseline recommendation models that Amazon uses is item-to-item collaborative filtering, which scales to massive data sets and produces high-quality recommendations in real-time.\n",
        "\n"
      ],
      "metadata": {
        "id": "7fUXxOaQd6us"
      }
    },
    {
      "cell_type": "markdown",
      "source": [
        "## **Objective:**\n",
        "\n"
      ],
      "metadata": {
        "id": "VR5Miwwqd_RH"
      }
    },
    {
      "cell_type": "markdown",
      "source": [
        "You are a Data Science Manager at Amazon, and have been given the task of building a recommendation system to recommend products to customers based on their previous ratings for other products. You have a collection of labeled data of Amazon reviews of products. The goal is to extract meaningful insights from the data and build a recommendation system that helps in recommending products to online consumers.\n"
      ],
      "metadata": {
        "id": "5m5HLkZceFjJ"
      }
    },
    {
      "cell_type": "markdown",
      "source": [
        "## **Dataset:**\n"
      ],
      "metadata": {
        "id": "MGXbTN9OeMPd"
      }
    },
    {
      "cell_type": "markdown",
      "source": [
        "The Amazon dataset contains the following attributes:\n",
        "\n",
        "- **userId:** Every user identified with a unique id\n",
        "- **productId:** Every product identified with a unique id\n",
        "- **Rating:** The rating of the corresponding product by the corresponding user\n",
        "- **timestamp:** Time of the rating. We **will not use this column** to solve the current problem"
      ],
      "metadata": {
        "id": "V48D8sXaeOtp"
      }
    },
    {
      "cell_type": "markdown",
      "metadata": {
        "id": "nmdPxJ2Q7W7p"
      },
      "source": [
        "**Note:** The code has some user defined functions that will be usefull while making recommendations and measure model performance, you can use these functions or can create your own functions."
      ]
    },
    {
      "cell_type": "markdown",
      "metadata": {
        "id": "UoRfgjS2yekq"
      },
      "source": [
        "Sometimes, the installation of the surprise library, which is used to build recommendation systems, faces issues in Jupyter. To avoid any issues, it is advised to use **Google Colab** for this project.\n",
        "\n",
        "Let's start by mounting the Google drive on Colab."
      ]
    },
    {
      "cell_type": "code",
      "execution_count": 26,
      "metadata": {
        "id": "GZ0YAszcT4zK",
        "colab": {
          "base_uri": "https://localhost:8080/"
        },
        "outputId": "4d8e265c-aa7a-4546-b97c-fce9ba3f92e9"
      },
      "outputs": [
        {
          "output_type": "stream",
          "name": "stdout",
          "text": [
            "Drive already mounted at /content/drive; to attempt to forcibly remount, call drive.mount(\"/content/drive\", force_remount=True).\n"
          ]
        }
      ],
      "source": [
        "from google.colab import drive\n",
        "drive.mount('/content/drive')"
      ]
    },
    {
      "cell_type": "markdown",
      "metadata": {
        "id": "NrXYJAv95JtP"
      },
      "source": [
        "### **Loading the data**\n",
        "- Import the Dataset\n",
        "- Add column names ['user_id', 'prod_id', 'rating', 'timestamp']\n",
        "- Drop the column timestamp\n",
        "- Copy the data to another DataFrame called **df**"
      ]
    },
    {
      "cell_type": "code",
      "source": [
        "import pandas as pd\n",
        "\n",
        "#File location and reading data file\n",
        "file_path = '/content/drive/My Drive/ratings_Electronics.csv'\n",
        "df = pd.read_csv(file_path)\n",
        "\n",
        "# Previewing the data\n",
        "print(df.head())"
      ],
      "metadata": {
        "colab": {
          "base_uri": "https://localhost:8080/"
        },
        "id": "MRA9owYkefqJ",
        "outputId": "e42b87cf-435e-4c88-fc44-83ce6a0f3c70"
      },
      "execution_count": 27,
      "outputs": [
        {
          "output_type": "stream",
          "name": "stdout",
          "text": [
            "    AKM1MP6P0OYPR  0132793040  5.0  1365811200\n",
            "0  A2CX7LUOHB2NDG  0321732944  5.0  1341100800\n",
            "1  A2NWSAGRHCP8N5  0439886341  1.0  1367193600\n",
            "2  A2WNBOD3WNDNKT  0439886341  3.0  1374451200\n",
            "3  A1GI0U4ZRJA8WN  0439886341  1.0  1334707200\n",
            "4  A1QGNMC6O1VW39  0511189877  5.0  1397433600\n"
          ]
        }
      ]
    },
    {
      "cell_type": "markdown",
      "metadata": {
        "id": "0Ibk07-Cyekt"
      },
      "source": [
        "**Installing surprise library**"
      ]
    },
    {
      "cell_type": "code",
      "source": [
        "!pip install scikit-surprise\n"
      ],
      "metadata": {
        "colab": {
          "base_uri": "https://localhost:8080/"
        },
        "id": "42HtBApgjxhW",
        "outputId": "0fd58e17-4106-434c-88cb-b53d027e352d"
      },
      "execution_count": 28,
      "outputs": [
        {
          "output_type": "stream",
          "name": "stdout",
          "text": [
            "Requirement already satisfied: scikit-surprise in /usr/local/lib/python3.11/dist-packages (1.1.4)\n",
            "Requirement already satisfied: joblib>=1.2.0 in /usr/local/lib/python3.11/dist-packages (from scikit-surprise) (1.4.2)\n",
            "Requirement already satisfied: numpy>=1.19.5 in /usr/local/lib/python3.11/dist-packages (from scikit-surprise) (1.26.4)\n",
            "Requirement already satisfied: scipy>=1.6.0 in /usr/local/lib/python3.11/dist-packages (from scikit-surprise) (1.13.1)\n"
          ]
        }
      ]
    },
    {
      "cell_type": "code",
      "source": [
        "import surprise\n",
        "print(surprise.__version__)\n"
      ],
      "metadata": {
        "colab": {
          "base_uri": "https://localhost:8080/"
        },
        "id": "U87Ooykc2O-S",
        "outputId": "c6c0179b-7c9c-4d03-fa73-5b389c05bb32"
      },
      "execution_count": 29,
      "outputs": [
        {
          "output_type": "stream",
          "name": "stdout",
          "text": [
            "1.1.4\n"
          ]
        }
      ]
    },
    {
      "cell_type": "code",
      "execution_count": 30,
      "metadata": {
        "id": "05HQoiZYlsbB"
      },
      "outputs": [],
      "source": [
        "from surprise import Dataset, Reader  # Load and preprocess dataset\n",
        "from surprise import SVD, KNNBasic, KNNWithMeans, KNNBaseline  # Recommendation algorithms\n",
        "from surprise import accuracy  # Evaluation metrics (RMSE, MAE)\n",
        "from surprise.model_selection import cross_validate, train_test_split  # Train-test split & validation\n",
        "from surprise import BaselineOnly, NormalPredictor\n",
        "from surprise.model_selection import GridSearchCV\n"
      ]
    },
    {
      "cell_type": "markdown",
      "metadata": {
        "id": "7fIt4jcFIm76"
      },
      "source": [
        "## **Importing the necessary libraries and overview of the dataset**"
      ]
    },
    {
      "cell_type": "code",
      "execution_count": 31,
      "metadata": {
        "id": "jzu2P-TT5JtP"
      },
      "outputs": [],
      "source": [
        "# Importing the basic libraries we will require for the project\n",
        "\n",
        "# Libraries\n",
        "import pandas as pd\n",
        "import numpy as np\n",
        "import matplotlib.pyplot as plt\n",
        "import seaborn as sns\n",
        "sns.set()\n",
        "\n",
        "# Machine Learning models\n",
        "from sklearn.linear_model import LogisticRegression\n",
        "from sklearn.svm import SVC\n",
        "from sklearn.tree import DecisionTreeClassifier\n",
        "from sklearn import tree\n",
        "from sklearn.ensemble import RandomForestClassifier\n",
        "\n"
      ]
    },
    {
      "cell_type": "markdown",
      "metadata": {
        "id": "OVQnSG5g_9uX"
      },
      "source": [
        "**As this dataset is very large and has 7,824,482 observations, it is not computationally possible to build a model using this. Moreover, many users have only rated a few products and also some products are rated by very few users. Hence, we can reduce the dataset by considering certain logical assumptions.**\n",
        "\n",
        "Here, we will be taking users who have given at least 50 ratings, and the products that have at least 5 ratings, as when we shop online we prefer to have some number of ratings of a product."
      ]
    },
    {
      "cell_type": "code",
      "execution_count": 32,
      "metadata": {
        "id": "JGb-Hk1B5JtP",
        "colab": {
          "base_uri": "https://localhost:8080/"
        },
        "outputId": "4d5c193b-7fe9-47f9-d297-7e21f56c7fc2"
      },
      "outputs": [
        {
          "output_type": "stream",
          "name": "stdout",
          "text": [
            "          user_id     prod_id  rating\n",
            "0   AKM1MP6P0OYPR  0132793040     5.0\n",
            "1  A2CX7LUOHB2NDG  0321732944     5.0\n",
            "2  A2NWSAGRHCP8N5  0439886341     1.0\n",
            "3  A2WNBOD3WNDNKT  0439886341     3.0\n",
            "4  A1GI0U4ZRJA8WN  0439886341     1.0\n",
            "Index(['user_id', 'prod_id', 'rating'], dtype='object')\n"
          ]
        }
      ],
      "source": [
        "# Define column names based on dataset description\n",
        "column_names = ['user_id', 'prod_id', 'rating', 'timestamp']\n",
        "\n",
        "# Load the CSV while assigning column names\n",
        "df = pd.read_csv(\"ratings_Electronics.csv\", names=column_names)\n",
        "\n",
        "# Drop the 'timestamp' column if not needed\n",
        "df.drop(columns=['timestamp'], inplace=True)\n",
        "\n",
        "# Display the first few rows to verify\n",
        "print(df.head())\n",
        "\n",
        "print(df.columns)"
      ]
    },
    {
      "cell_type": "code",
      "execution_count": 34,
      "metadata": {
        "id": "4yt9W7Q32EQQ"
      },
      "outputs": [],
      "source": [
        "# Get the column containing the users\n",
        "users = df.user_id\n",
        "\n",
        "# Create a dictionary from users to their number of ratings\n",
        "ratings_count = dict()\n",
        "\n",
        "for user in users:\n",
        "\n",
        "    # If we already have the user, just add 1 to their rating count\n",
        "    if user in ratings_count:\n",
        "        ratings_count[user] += 1\n",
        "\n",
        "    # Otherwise, set their rating count to 1\n",
        "    else:\n",
        "        ratings_count[user] = 1"
      ]
    },
    {
      "cell_type": "code",
      "execution_count": 35,
      "metadata": {
        "id": "19XB60dq2EQR"
      },
      "outputs": [],
      "source": [
        "# We want our users to have at least 50 ratings to be considered\n",
        "RATINGS_CUTOFF = 50\n",
        "\n",
        "remove_users = []\n",
        "\n",
        "for user, num_ratings in ratings_count.items():\n",
        "    if num_ratings < RATINGS_CUTOFF:\n",
        "        remove_users.append(user)\n",
        "\n",
        "df = df.loc[ ~ df.user_id.isin(remove_users)]"
      ]
    },
    {
      "cell_type": "code",
      "execution_count": 36,
      "metadata": {
        "id": "33UzK1D82EQS"
      },
      "outputs": [],
      "source": [
        "# Get the column containing the products\n",
        "prods = df.prod_id\n",
        "\n",
        "# Create a dictionary from products to their number of ratings\n",
        "ratings_count = dict()\n",
        "\n",
        "for prod in prods:\n",
        "\n",
        "    # If we already have the product, just add 1 to its rating count\n",
        "    if prod in ratings_count:\n",
        "        ratings_count[prod] += 1\n",
        "\n",
        "    # Otherwise, set their rating count to 1\n",
        "    else:\n",
        "        ratings_count[prod] = 1"
      ]
    },
    {
      "cell_type": "code",
      "execution_count": 37,
      "metadata": {
        "id": "u6YE-lUp2EQT"
      },
      "outputs": [],
      "source": [
        "# We want our item to have at least 5 ratings to be considered\n",
        "RATINGS_CUTOFF = 5\n",
        "\n",
        "remove_users = []\n",
        "\n",
        "for user, num_ratings in ratings_count.items():\n",
        "    if num_ratings < RATINGS_CUTOFF:\n",
        "        remove_users.append(user)\n",
        "\n",
        "df_final = df.loc[~ df.prod_id.isin(remove_users)]"
      ]
    },
    {
      "cell_type": "code",
      "execution_count": 38,
      "metadata": {
        "id": "aL1JZ00o5JtQ",
        "colab": {
          "base_uri": "https://localhost:8080/",
          "height": 206
        },
        "outputId": "34416360-4f7f-4f45-8feb-bcf28b13d3a1"
      },
      "outputs": [
        {
          "output_type": "execute_result",
          "data": {
            "text/plain": [
              "             user_id     prod_id  rating\n",
              "1310  A3LDPF5FMB782Z  1400501466     5.0\n",
              "1322  A1A5KUIIIHFF4U  1400501466     1.0\n",
              "1335  A2XIOXRRYX0KZY  1400501466     3.0\n",
              "1451   AW3LX47IHPFRL  1400501466     5.0\n",
              "1456  A1E3OB6QMBKRYZ  1400501466     1.0"
            ],
            "text/html": [
              "\n",
              "  <div id=\"df-ce9b279d-cbd3-4ae8-baba-6ebac643565d\" class=\"colab-df-container\">\n",
              "    <div>\n",
              "<style scoped>\n",
              "    .dataframe tbody tr th:only-of-type {\n",
              "        vertical-align: middle;\n",
              "    }\n",
              "\n",
              "    .dataframe tbody tr th {\n",
              "        vertical-align: top;\n",
              "    }\n",
              "\n",
              "    .dataframe thead th {\n",
              "        text-align: right;\n",
              "    }\n",
              "</style>\n",
              "<table border=\"1\" class=\"dataframe\">\n",
              "  <thead>\n",
              "    <tr style=\"text-align: right;\">\n",
              "      <th></th>\n",
              "      <th>user_id</th>\n",
              "      <th>prod_id</th>\n",
              "      <th>rating</th>\n",
              "    </tr>\n",
              "  </thead>\n",
              "  <tbody>\n",
              "    <tr>\n",
              "      <th>1310</th>\n",
              "      <td>A3LDPF5FMB782Z</td>\n",
              "      <td>1400501466</td>\n",
              "      <td>5.0</td>\n",
              "    </tr>\n",
              "    <tr>\n",
              "      <th>1322</th>\n",
              "      <td>A1A5KUIIIHFF4U</td>\n",
              "      <td>1400501466</td>\n",
              "      <td>1.0</td>\n",
              "    </tr>\n",
              "    <tr>\n",
              "      <th>1335</th>\n",
              "      <td>A2XIOXRRYX0KZY</td>\n",
              "      <td>1400501466</td>\n",
              "      <td>3.0</td>\n",
              "    </tr>\n",
              "    <tr>\n",
              "      <th>1451</th>\n",
              "      <td>AW3LX47IHPFRL</td>\n",
              "      <td>1400501466</td>\n",
              "      <td>5.0</td>\n",
              "    </tr>\n",
              "    <tr>\n",
              "      <th>1456</th>\n",
              "      <td>A1E3OB6QMBKRYZ</td>\n",
              "      <td>1400501466</td>\n",
              "      <td>1.0</td>\n",
              "    </tr>\n",
              "  </tbody>\n",
              "</table>\n",
              "</div>\n",
              "    <div class=\"colab-df-buttons\">\n",
              "\n",
              "  <div class=\"colab-df-container\">\n",
              "    <button class=\"colab-df-convert\" onclick=\"convertToInteractive('df-ce9b279d-cbd3-4ae8-baba-6ebac643565d')\"\n",
              "            title=\"Convert this dataframe to an interactive table.\"\n",
              "            style=\"display:none;\">\n",
              "\n",
              "  <svg xmlns=\"http://www.w3.org/2000/svg\" height=\"24px\" viewBox=\"0 -960 960 960\">\n",
              "    <path d=\"M120-120v-720h720v720H120Zm60-500h600v-160H180v160Zm220 220h160v-160H400v160Zm0 220h160v-160H400v160ZM180-400h160v-160H180v160Zm440 0h160v-160H620v160ZM180-180h160v-160H180v160Zm440 0h160v-160H620v160Z\"/>\n",
              "  </svg>\n",
              "    </button>\n",
              "\n",
              "  <style>\n",
              "    .colab-df-container {\n",
              "      display:flex;\n",
              "      gap: 12px;\n",
              "    }\n",
              "\n",
              "    .colab-df-convert {\n",
              "      background-color: #E8F0FE;\n",
              "      border: none;\n",
              "      border-radius: 50%;\n",
              "      cursor: pointer;\n",
              "      display: none;\n",
              "      fill: #1967D2;\n",
              "      height: 32px;\n",
              "      padding: 0 0 0 0;\n",
              "      width: 32px;\n",
              "    }\n",
              "\n",
              "    .colab-df-convert:hover {\n",
              "      background-color: #E2EBFA;\n",
              "      box-shadow: 0px 1px 2px rgba(60, 64, 67, 0.3), 0px 1px 3px 1px rgba(60, 64, 67, 0.15);\n",
              "      fill: #174EA6;\n",
              "    }\n",
              "\n",
              "    .colab-df-buttons div {\n",
              "      margin-bottom: 4px;\n",
              "    }\n",
              "\n",
              "    [theme=dark] .colab-df-convert {\n",
              "      background-color: #3B4455;\n",
              "      fill: #D2E3FC;\n",
              "    }\n",
              "\n",
              "    [theme=dark] .colab-df-convert:hover {\n",
              "      background-color: #434B5C;\n",
              "      box-shadow: 0px 1px 3px 1px rgba(0, 0, 0, 0.15);\n",
              "      filter: drop-shadow(0px 1px 2px rgba(0, 0, 0, 0.3));\n",
              "      fill: #FFFFFF;\n",
              "    }\n",
              "  </style>\n",
              "\n",
              "    <script>\n",
              "      const buttonEl =\n",
              "        document.querySelector('#df-ce9b279d-cbd3-4ae8-baba-6ebac643565d button.colab-df-convert');\n",
              "      buttonEl.style.display =\n",
              "        google.colab.kernel.accessAllowed ? 'block' : 'none';\n",
              "\n",
              "      async function convertToInteractive(key) {\n",
              "        const element = document.querySelector('#df-ce9b279d-cbd3-4ae8-baba-6ebac643565d');\n",
              "        const dataTable =\n",
              "          await google.colab.kernel.invokeFunction('convertToInteractive',\n",
              "                                                    [key], {});\n",
              "        if (!dataTable) return;\n",
              "\n",
              "        const docLinkHtml = 'Like what you see? Visit the ' +\n",
              "          '<a target=\"_blank\" href=https://colab.research.google.com/notebooks/data_table.ipynb>data table notebook</a>'\n",
              "          + ' to learn more about interactive tables.';\n",
              "        element.innerHTML = '';\n",
              "        dataTable['output_type'] = 'display_data';\n",
              "        await google.colab.output.renderOutput(dataTable, element);\n",
              "        const docLink = document.createElement('div');\n",
              "        docLink.innerHTML = docLinkHtml;\n",
              "        element.appendChild(docLink);\n",
              "      }\n",
              "    </script>\n",
              "  </div>\n",
              "\n",
              "\n",
              "<div id=\"df-5b35a7d7-b356-41cd-a75c-2d4abfb45d86\">\n",
              "  <button class=\"colab-df-quickchart\" onclick=\"quickchart('df-5b35a7d7-b356-41cd-a75c-2d4abfb45d86')\"\n",
              "            title=\"Suggest charts\"\n",
              "            style=\"display:none;\">\n",
              "\n",
              "<svg xmlns=\"http://www.w3.org/2000/svg\" height=\"24px\"viewBox=\"0 0 24 24\"\n",
              "     width=\"24px\">\n",
              "    <g>\n",
              "        <path d=\"M19 3H5c-1.1 0-2 .9-2 2v14c0 1.1.9 2 2 2h14c1.1 0 2-.9 2-2V5c0-1.1-.9-2-2-2zM9 17H7v-7h2v7zm4 0h-2V7h2v10zm4 0h-2v-4h2v4z\"/>\n",
              "    </g>\n",
              "</svg>\n",
              "  </button>\n",
              "\n",
              "<style>\n",
              "  .colab-df-quickchart {\n",
              "      --bg-color: #E8F0FE;\n",
              "      --fill-color: #1967D2;\n",
              "      --hover-bg-color: #E2EBFA;\n",
              "      --hover-fill-color: #174EA6;\n",
              "      --disabled-fill-color: #AAA;\n",
              "      --disabled-bg-color: #DDD;\n",
              "  }\n",
              "\n",
              "  [theme=dark] .colab-df-quickchart {\n",
              "      --bg-color: #3B4455;\n",
              "      --fill-color: #D2E3FC;\n",
              "      --hover-bg-color: #434B5C;\n",
              "      --hover-fill-color: #FFFFFF;\n",
              "      --disabled-bg-color: #3B4455;\n",
              "      --disabled-fill-color: #666;\n",
              "  }\n",
              "\n",
              "  .colab-df-quickchart {\n",
              "    background-color: var(--bg-color);\n",
              "    border: none;\n",
              "    border-radius: 50%;\n",
              "    cursor: pointer;\n",
              "    display: none;\n",
              "    fill: var(--fill-color);\n",
              "    height: 32px;\n",
              "    padding: 0;\n",
              "    width: 32px;\n",
              "  }\n",
              "\n",
              "  .colab-df-quickchart:hover {\n",
              "    background-color: var(--hover-bg-color);\n",
              "    box-shadow: 0 1px 2px rgba(60, 64, 67, 0.3), 0 1px 3px 1px rgba(60, 64, 67, 0.15);\n",
              "    fill: var(--button-hover-fill-color);\n",
              "  }\n",
              "\n",
              "  .colab-df-quickchart-complete:disabled,\n",
              "  .colab-df-quickchart-complete:disabled:hover {\n",
              "    background-color: var(--disabled-bg-color);\n",
              "    fill: var(--disabled-fill-color);\n",
              "    box-shadow: none;\n",
              "  }\n",
              "\n",
              "  .colab-df-spinner {\n",
              "    border: 2px solid var(--fill-color);\n",
              "    border-color: transparent;\n",
              "    border-bottom-color: var(--fill-color);\n",
              "    animation:\n",
              "      spin 1s steps(1) infinite;\n",
              "  }\n",
              "\n",
              "  @keyframes spin {\n",
              "    0% {\n",
              "      border-color: transparent;\n",
              "      border-bottom-color: var(--fill-color);\n",
              "      border-left-color: var(--fill-color);\n",
              "    }\n",
              "    20% {\n",
              "      border-color: transparent;\n",
              "      border-left-color: var(--fill-color);\n",
              "      border-top-color: var(--fill-color);\n",
              "    }\n",
              "    30% {\n",
              "      border-color: transparent;\n",
              "      border-left-color: var(--fill-color);\n",
              "      border-top-color: var(--fill-color);\n",
              "      border-right-color: var(--fill-color);\n",
              "    }\n",
              "    40% {\n",
              "      border-color: transparent;\n",
              "      border-right-color: var(--fill-color);\n",
              "      border-top-color: var(--fill-color);\n",
              "    }\n",
              "    60% {\n",
              "      border-color: transparent;\n",
              "      border-right-color: var(--fill-color);\n",
              "    }\n",
              "    80% {\n",
              "      border-color: transparent;\n",
              "      border-right-color: var(--fill-color);\n",
              "      border-bottom-color: var(--fill-color);\n",
              "    }\n",
              "    90% {\n",
              "      border-color: transparent;\n",
              "      border-bottom-color: var(--fill-color);\n",
              "    }\n",
              "  }\n",
              "</style>\n",
              "\n",
              "  <script>\n",
              "    async function quickchart(key) {\n",
              "      const quickchartButtonEl =\n",
              "        document.querySelector('#' + key + ' button');\n",
              "      quickchartButtonEl.disabled = true;  // To prevent multiple clicks.\n",
              "      quickchartButtonEl.classList.add('colab-df-spinner');\n",
              "      try {\n",
              "        const charts = await google.colab.kernel.invokeFunction(\n",
              "            'suggestCharts', [key], {});\n",
              "      } catch (error) {\n",
              "        console.error('Error during call to suggestCharts:', error);\n",
              "      }\n",
              "      quickchartButtonEl.classList.remove('colab-df-spinner');\n",
              "      quickchartButtonEl.classList.add('colab-df-quickchart-complete');\n",
              "    }\n",
              "    (() => {\n",
              "      let quickchartButtonEl =\n",
              "        document.querySelector('#df-5b35a7d7-b356-41cd-a75c-2d4abfb45d86 button');\n",
              "      quickchartButtonEl.style.display =\n",
              "        google.colab.kernel.accessAllowed ? 'block' : 'none';\n",
              "    })();\n",
              "  </script>\n",
              "</div>\n",
              "\n",
              "    </div>\n",
              "  </div>\n"
            ],
            "application/vnd.google.colaboratory.intrinsic+json": {
              "type": "dataframe",
              "variable_name": "df_final",
              "summary": "{\n  \"name\": \"df_final\",\n  \"rows\": 65290,\n  \"fields\": [\n    {\n      \"column\": \"user_id\",\n      \"properties\": {\n        \"dtype\": \"category\",\n        \"num_unique_values\": 1540,\n        \"samples\": [\n          \"A1VJ0V58N0698J\",\n          \"A14X244VGHWPSX\",\n          \"A14JBDSWKPKTZA\"\n        ],\n        \"semantic_type\": \"\",\n        \"description\": \"\"\n      }\n    },\n    {\n      \"column\": \"prod_id\",\n      \"properties\": {\n        \"dtype\": \"category\",\n        \"num_unique_values\": 5689,\n        \"samples\": [\n          \"B005EOWBHC\",\n          \"B00BB72WX4\",\n          \"B00B9AB26G\"\n        ],\n        \"semantic_type\": \"\",\n        \"description\": \"\"\n      }\n    },\n    {\n      \"column\": \"rating\",\n      \"properties\": {\n        \"dtype\": \"number\",\n        \"std\": 0.9889148020338726,\n        \"min\": 1.0,\n        \"max\": 5.0,\n        \"num_unique_values\": 5,\n        \"samples\": [\n          1.0,\n          2.0,\n          3.0\n        ],\n        \"semantic_type\": \"\",\n        \"description\": \"\"\n      }\n    }\n  ]\n}"
            }
          },
          "metadata": {},
          "execution_count": 38
        }
      ],
      "source": [
        "# Print a few rows of the imported dataset\n",
        "df_final.head()"
      ]
    },
    {
      "cell_type": "code",
      "source": [
        "df_final.describe()"
      ],
      "metadata": {
        "colab": {
          "base_uri": "https://localhost:8080/",
          "height": 300
        },
        "id": "UGwrD7wz4qgL",
        "outputId": "fc1fd915-491a-4178-8e2e-0cc9fdc744ac"
      },
      "execution_count": 39,
      "outputs": [
        {
          "output_type": "execute_result",
          "data": {
            "text/plain": [
              "             rating\n",
              "count  65290.000000\n",
              "mean       4.294808\n",
              "std        0.988915\n",
              "min        1.000000\n",
              "25%        4.000000\n",
              "50%        5.000000\n",
              "75%        5.000000\n",
              "max        5.000000"
            ],
            "text/html": [
              "\n",
              "  <div id=\"df-23ac470c-3673-4165-8c3a-02487e92104c\" class=\"colab-df-container\">\n",
              "    <div>\n",
              "<style scoped>\n",
              "    .dataframe tbody tr th:only-of-type {\n",
              "        vertical-align: middle;\n",
              "    }\n",
              "\n",
              "    .dataframe tbody tr th {\n",
              "        vertical-align: top;\n",
              "    }\n",
              "\n",
              "    .dataframe thead th {\n",
              "        text-align: right;\n",
              "    }\n",
              "</style>\n",
              "<table border=\"1\" class=\"dataframe\">\n",
              "  <thead>\n",
              "    <tr style=\"text-align: right;\">\n",
              "      <th></th>\n",
              "      <th>rating</th>\n",
              "    </tr>\n",
              "  </thead>\n",
              "  <tbody>\n",
              "    <tr>\n",
              "      <th>count</th>\n",
              "      <td>65290.000000</td>\n",
              "    </tr>\n",
              "    <tr>\n",
              "      <th>mean</th>\n",
              "      <td>4.294808</td>\n",
              "    </tr>\n",
              "    <tr>\n",
              "      <th>std</th>\n",
              "      <td>0.988915</td>\n",
              "    </tr>\n",
              "    <tr>\n",
              "      <th>min</th>\n",
              "      <td>1.000000</td>\n",
              "    </tr>\n",
              "    <tr>\n",
              "      <th>25%</th>\n",
              "      <td>4.000000</td>\n",
              "    </tr>\n",
              "    <tr>\n",
              "      <th>50%</th>\n",
              "      <td>5.000000</td>\n",
              "    </tr>\n",
              "    <tr>\n",
              "      <th>75%</th>\n",
              "      <td>5.000000</td>\n",
              "    </tr>\n",
              "    <tr>\n",
              "      <th>max</th>\n",
              "      <td>5.000000</td>\n",
              "    </tr>\n",
              "  </tbody>\n",
              "</table>\n",
              "</div>\n",
              "    <div class=\"colab-df-buttons\">\n",
              "\n",
              "  <div class=\"colab-df-container\">\n",
              "    <button class=\"colab-df-convert\" onclick=\"convertToInteractive('df-23ac470c-3673-4165-8c3a-02487e92104c')\"\n",
              "            title=\"Convert this dataframe to an interactive table.\"\n",
              "            style=\"display:none;\">\n",
              "\n",
              "  <svg xmlns=\"http://www.w3.org/2000/svg\" height=\"24px\" viewBox=\"0 -960 960 960\">\n",
              "    <path d=\"M120-120v-720h720v720H120Zm60-500h600v-160H180v160Zm220 220h160v-160H400v160Zm0 220h160v-160H400v160ZM180-400h160v-160H180v160Zm440 0h160v-160H620v160ZM180-180h160v-160H180v160Zm440 0h160v-160H620v160Z\"/>\n",
              "  </svg>\n",
              "    </button>\n",
              "\n",
              "  <style>\n",
              "    .colab-df-container {\n",
              "      display:flex;\n",
              "      gap: 12px;\n",
              "    }\n",
              "\n",
              "    .colab-df-convert {\n",
              "      background-color: #E8F0FE;\n",
              "      border: none;\n",
              "      border-radius: 50%;\n",
              "      cursor: pointer;\n",
              "      display: none;\n",
              "      fill: #1967D2;\n",
              "      height: 32px;\n",
              "      padding: 0 0 0 0;\n",
              "      width: 32px;\n",
              "    }\n",
              "\n",
              "    .colab-df-convert:hover {\n",
              "      background-color: #E2EBFA;\n",
              "      box-shadow: 0px 1px 2px rgba(60, 64, 67, 0.3), 0px 1px 3px 1px rgba(60, 64, 67, 0.15);\n",
              "      fill: #174EA6;\n",
              "    }\n",
              "\n",
              "    .colab-df-buttons div {\n",
              "      margin-bottom: 4px;\n",
              "    }\n",
              "\n",
              "    [theme=dark] .colab-df-convert {\n",
              "      background-color: #3B4455;\n",
              "      fill: #D2E3FC;\n",
              "    }\n",
              "\n",
              "    [theme=dark] .colab-df-convert:hover {\n",
              "      background-color: #434B5C;\n",
              "      box-shadow: 0px 1px 3px 1px rgba(0, 0, 0, 0.15);\n",
              "      filter: drop-shadow(0px 1px 2px rgba(0, 0, 0, 0.3));\n",
              "      fill: #FFFFFF;\n",
              "    }\n",
              "  </style>\n",
              "\n",
              "    <script>\n",
              "      const buttonEl =\n",
              "        document.querySelector('#df-23ac470c-3673-4165-8c3a-02487e92104c button.colab-df-convert');\n",
              "      buttonEl.style.display =\n",
              "        google.colab.kernel.accessAllowed ? 'block' : 'none';\n",
              "\n",
              "      async function convertToInteractive(key) {\n",
              "        const element = document.querySelector('#df-23ac470c-3673-4165-8c3a-02487e92104c');\n",
              "        const dataTable =\n",
              "          await google.colab.kernel.invokeFunction('convertToInteractive',\n",
              "                                                    [key], {});\n",
              "        if (!dataTable) return;\n",
              "\n",
              "        const docLinkHtml = 'Like what you see? Visit the ' +\n",
              "          '<a target=\"_blank\" href=https://colab.research.google.com/notebooks/data_table.ipynb>data table notebook</a>'\n",
              "          + ' to learn more about interactive tables.';\n",
              "        element.innerHTML = '';\n",
              "        dataTable['output_type'] = 'display_data';\n",
              "        await google.colab.output.renderOutput(dataTable, element);\n",
              "        const docLink = document.createElement('div');\n",
              "        docLink.innerHTML = docLinkHtml;\n",
              "        element.appendChild(docLink);\n",
              "      }\n",
              "    </script>\n",
              "  </div>\n",
              "\n",
              "\n",
              "<div id=\"df-978fd887-af9e-439a-8c43-e64d1377a70a\">\n",
              "  <button class=\"colab-df-quickchart\" onclick=\"quickchart('df-978fd887-af9e-439a-8c43-e64d1377a70a')\"\n",
              "            title=\"Suggest charts\"\n",
              "            style=\"display:none;\">\n",
              "\n",
              "<svg xmlns=\"http://www.w3.org/2000/svg\" height=\"24px\"viewBox=\"0 0 24 24\"\n",
              "     width=\"24px\">\n",
              "    <g>\n",
              "        <path d=\"M19 3H5c-1.1 0-2 .9-2 2v14c0 1.1.9 2 2 2h14c1.1 0 2-.9 2-2V5c0-1.1-.9-2-2-2zM9 17H7v-7h2v7zm4 0h-2V7h2v10zm4 0h-2v-4h2v4z\"/>\n",
              "    </g>\n",
              "</svg>\n",
              "  </button>\n",
              "\n",
              "<style>\n",
              "  .colab-df-quickchart {\n",
              "      --bg-color: #E8F0FE;\n",
              "      --fill-color: #1967D2;\n",
              "      --hover-bg-color: #E2EBFA;\n",
              "      --hover-fill-color: #174EA6;\n",
              "      --disabled-fill-color: #AAA;\n",
              "      --disabled-bg-color: #DDD;\n",
              "  }\n",
              "\n",
              "  [theme=dark] .colab-df-quickchart {\n",
              "      --bg-color: #3B4455;\n",
              "      --fill-color: #D2E3FC;\n",
              "      --hover-bg-color: #434B5C;\n",
              "      --hover-fill-color: #FFFFFF;\n",
              "      --disabled-bg-color: #3B4455;\n",
              "      --disabled-fill-color: #666;\n",
              "  }\n",
              "\n",
              "  .colab-df-quickchart {\n",
              "    background-color: var(--bg-color);\n",
              "    border: none;\n",
              "    border-radius: 50%;\n",
              "    cursor: pointer;\n",
              "    display: none;\n",
              "    fill: var(--fill-color);\n",
              "    height: 32px;\n",
              "    padding: 0;\n",
              "    width: 32px;\n",
              "  }\n",
              "\n",
              "  .colab-df-quickchart:hover {\n",
              "    background-color: var(--hover-bg-color);\n",
              "    box-shadow: 0 1px 2px rgba(60, 64, 67, 0.3), 0 1px 3px 1px rgba(60, 64, 67, 0.15);\n",
              "    fill: var(--button-hover-fill-color);\n",
              "  }\n",
              "\n",
              "  .colab-df-quickchart-complete:disabled,\n",
              "  .colab-df-quickchart-complete:disabled:hover {\n",
              "    background-color: var(--disabled-bg-color);\n",
              "    fill: var(--disabled-fill-color);\n",
              "    box-shadow: none;\n",
              "  }\n",
              "\n",
              "  .colab-df-spinner {\n",
              "    border: 2px solid var(--fill-color);\n",
              "    border-color: transparent;\n",
              "    border-bottom-color: var(--fill-color);\n",
              "    animation:\n",
              "      spin 1s steps(1) infinite;\n",
              "  }\n",
              "\n",
              "  @keyframes spin {\n",
              "    0% {\n",
              "      border-color: transparent;\n",
              "      border-bottom-color: var(--fill-color);\n",
              "      border-left-color: var(--fill-color);\n",
              "    }\n",
              "    20% {\n",
              "      border-color: transparent;\n",
              "      border-left-color: var(--fill-color);\n",
              "      border-top-color: var(--fill-color);\n",
              "    }\n",
              "    30% {\n",
              "      border-color: transparent;\n",
              "      border-left-color: var(--fill-color);\n",
              "      border-top-color: var(--fill-color);\n",
              "      border-right-color: var(--fill-color);\n",
              "    }\n",
              "    40% {\n",
              "      border-color: transparent;\n",
              "      border-right-color: var(--fill-color);\n",
              "      border-top-color: var(--fill-color);\n",
              "    }\n",
              "    60% {\n",
              "      border-color: transparent;\n",
              "      border-right-color: var(--fill-color);\n",
              "    }\n",
              "    80% {\n",
              "      border-color: transparent;\n",
              "      border-right-color: var(--fill-color);\n",
              "      border-bottom-color: var(--fill-color);\n",
              "    }\n",
              "    90% {\n",
              "      border-color: transparent;\n",
              "      border-bottom-color: var(--fill-color);\n",
              "    }\n",
              "  }\n",
              "</style>\n",
              "\n",
              "  <script>\n",
              "    async function quickchart(key) {\n",
              "      const quickchartButtonEl =\n",
              "        document.querySelector('#' + key + ' button');\n",
              "      quickchartButtonEl.disabled = true;  // To prevent multiple clicks.\n",
              "      quickchartButtonEl.classList.add('colab-df-spinner');\n",
              "      try {\n",
              "        const charts = await google.colab.kernel.invokeFunction(\n",
              "            'suggestCharts', [key], {});\n",
              "      } catch (error) {\n",
              "        console.error('Error during call to suggestCharts:', error);\n",
              "      }\n",
              "      quickchartButtonEl.classList.remove('colab-df-spinner');\n",
              "      quickchartButtonEl.classList.add('colab-df-quickchart-complete');\n",
              "    }\n",
              "    (() => {\n",
              "      let quickchartButtonEl =\n",
              "        document.querySelector('#df-978fd887-af9e-439a-8c43-e64d1377a70a button');\n",
              "      quickchartButtonEl.style.display =\n",
              "        google.colab.kernel.accessAllowed ? 'block' : 'none';\n",
              "    })();\n",
              "  </script>\n",
              "</div>\n",
              "\n",
              "    </div>\n",
              "  </div>\n"
            ],
            "application/vnd.google.colaboratory.intrinsic+json": {
              "type": "dataframe",
              "summary": "{\n  \"name\": \"df_final\",\n  \"rows\": 8,\n  \"fields\": [\n    {\n      \"column\": \"rating\",\n      \"properties\": {\n        \"dtype\": \"number\",\n        \"std\": 23082.223913198228,\n        \"min\": 0.9889148020338726,\n        \"max\": 65290.0,\n        \"num_unique_values\": 6,\n        \"samples\": [\n          65290.0,\n          4.294807780670853,\n          5.0\n        ],\n        \"semantic_type\": \"\",\n        \"description\": \"\"\n      }\n    }\n  ]\n}"
            }
          },
          "metadata": {},
          "execution_count": 39
        }
      ]
    },
    {
      "cell_type": "markdown",
      "metadata": {
        "id": "GuPoy_XfxhXZ"
      },
      "source": [
        "## **Exploratory Data Analysis**"
      ]
    },
    {
      "cell_type": "markdown",
      "metadata": {
        "id": "s0d0bWeG-sVB"
      },
      "source": [
        "### **Shape of the data**"
      ]
    },
    {
      "cell_type": "markdown",
      "metadata": {
        "id": "qyBVTRDTyek0"
      },
      "source": [
        "### **Check the number of rows and columns and provide observations.**"
      ]
    },
    {
      "cell_type": "code",
      "execution_count": 41,
      "metadata": {
        "id": "fJ4eQKaY5JtQ",
        "colab": {
          "base_uri": "https://localhost:8080/"
        },
        "outputId": "ebaf9e1b-67b0-4716-a104-70bc4e0b0981"
      },
      "outputs": [
        {
          "output_type": "stream",
          "name": "stdout",
          "text": [
            "Number of rows: 65290\n",
            "Number of columns: 3\n"
          ]
        }
      ],
      "source": [
        "# Check the number of rows and columns and provide observations\n",
        "num_rows, num_columns = df_final.shape\n",
        "print(f\"Number of rows: {num_rows}\")\n",
        "print(f\"Number of columns: {num_columns}\")\n"
      ]
    },
    {
      "cell_type": "markdown",
      "source": [
        "There are 65290 rows and 3 columns in the data we will be using."
      ],
      "metadata": {
        "id": "bVrszrUx71-r"
      }
    },
    {
      "cell_type": "markdown",
      "metadata": {
        "id": "lAMWm0nC-sVF"
      },
      "source": [
        "### **Data types**"
      ]
    },
    {
      "cell_type": "code",
      "execution_count": 42,
      "metadata": {
        "id": "SVrgMkye5JtQ",
        "colab": {
          "base_uri": "https://localhost:8080/"
        },
        "outputId": "21c50522-8106-4c89-b9c1-b9e647844c49"
      },
      "outputs": [
        {
          "output_type": "stream",
          "name": "stdout",
          "text": [
            "Data Types of Each Column:\n",
            "user_id     object\n",
            "prod_id     object\n",
            "rating     float64\n",
            "dtype: object\n"
          ]
        }
      ],
      "source": [
        "# Check Data types and provide observations\n",
        "print(\"Data Types of Each Column:\")\n",
        "print(df_final.dtypes)"
      ]
    },
    {
      "cell_type": "markdown",
      "source": [
        "There are 2 columns with objects data type and 1 column with float data type."
      ],
      "metadata": {
        "id": "kT2oSS4t8QB-"
      }
    },
    {
      "cell_type": "markdown",
      "metadata": {
        "id": "lTMpOROT-sVG"
      },
      "source": [
        "### **Checking for missing values**"
      ]
    },
    {
      "cell_type": "code",
      "execution_count": 45,
      "metadata": {
        "id": "vt-VEjMA5JtQ",
        "colab": {
          "base_uri": "https://localhost:8080/"
        },
        "outputId": "d6b88246-1647-49a9-cc57-1bbb82dbe542"
      },
      "outputs": [
        {
          "output_type": "stream",
          "name": "stdout",
          "text": [
            "Missing Values in Each Column:\n",
            "user_id    0\n",
            "prod_id    0\n",
            "rating     0\n",
            "dtype: int64\n"
          ]
        }
      ],
      "source": [
        "# Check for missing values present and provide observations\n",
        "missing_values = df_final.isnull().sum()\n",
        "\n",
        "# Print missing values count\n",
        "print(\"Missing Values in Each Column:\")\n",
        "print(missing_values)"
      ]
    },
    {
      "cell_type": "markdown",
      "source": [
        "No missing values were found."
      ],
      "metadata": {
        "id": "2YRZ2xns8pPM"
      }
    },
    {
      "cell_type": "markdown",
      "metadata": {
        "id": "wETrCg48-sVG"
      },
      "source": [
        "### **Summary Statistics**"
      ]
    },
    {
      "cell_type": "code",
      "execution_count": 46,
      "metadata": {
        "id": "tYm30MXR5JtR",
        "colab": {
          "base_uri": "https://localhost:8080/"
        },
        "outputId": "d9cb690b-cf71-4dce-d9f1-c6f6611893eb"
      },
      "outputs": [
        {
          "output_type": "stream",
          "name": "stdout",
          "text": [
            "Summary Statistics of 'rating' Variable:\n",
            "count    65290.000000\n",
            "mean         4.294808\n",
            "std          0.988915\n",
            "min          1.000000\n",
            "25%          4.000000\n",
            "50%          5.000000\n",
            "75%          5.000000\n",
            "max          5.000000\n",
            "Name: rating, dtype: float64\n"
          ]
        }
      ],
      "source": [
        "# Summary statistics of 'rating' variable and provide observations\n",
        "print(\"Summary Statistics of 'rating' Variable:\")\n",
        "print(df_final['rating'].describe())"
      ]
    },
    {
      "cell_type": "markdown",
      "source": [
        "The summary statistics indicate that there are 65,290 ratings in the dataset. The average rating is 4.29, with a standard deviation of 0.99, meaning most ratings are close to the average. The minimum rating is 1, and the maximum is 5. The median (50%) rating is 5, and 75% of ratings are 5, suggesting users tend to give high ratings."
      ],
      "metadata": {
        "id": "KbZzZ8Uv88G9"
      }
    },
    {
      "cell_type": "markdown",
      "metadata": {
        "id": "ywyFrZIf5JtR"
      },
      "source": [
        "### **Checking the rating distribution**"
      ]
    },
    {
      "cell_type": "code",
      "execution_count": 47,
      "metadata": {
        "id": "QbqhbEVe-sVH",
        "colab": {
          "base_uri": "https://localhost:8080/",
          "height": 496
        },
        "outputId": "e74832fd-0998-401c-b6a7-d5bb3afcddcd"
      },
      "outputs": [
        {
          "output_type": "display_data",
          "data": {
            "text/plain": [
              "<Figure size 800x500 with 1 Axes>"
            ],
            "image/png": "[encoded data removed]"
          },
          "metadata": {}
        }
      ],
      "source": [
        "# Plot bar chart for rating distribution\n",
        "plt.figure(figsize=(8, 5))\n",
        "df_final['rating'].value_counts().sort_index().plot(kind='bar')\n",
        "\n",
        "# Labels and title\n",
        "plt.xlabel(\"Rating\")\n",
        "plt.ylabel(\"Count\")\n",
        "plt.title(\"Distribution of Ratings\")\n",
        "plt.xticks(rotation=0)\n",
        "plt.grid(axis='y', linestyle='--', alpha=0.7)\n",
        "\n",
        "# Show the plot\n",
        "plt.show()\n"
      ]
    },
    {
      "cell_type": "markdown",
      "source": [
        "Observations:\n",
        "As seen above, The majority of the ratings are 4 and 5, indicating positive user experiences. Lower ratings such as 1, 2, and 3 are significantly less frequent. This suggests that most users are satisfied with the products, and there may be a bias towards high ratings.\n"
      ],
      "metadata": {
        "id": "c6INZp6e9npF"
      }
    },
    {
      "cell_type": "markdown",
      "metadata": {
        "id": "HefpLdLJxhXd"
      },
      "source": [
        "### **Checking the number of unique users and items in the dataset**"
      ]
    },
    {
      "cell_type": "code",
      "execution_count": 51,
      "metadata": {
        "id": "NbSom7195JtR",
        "colab": {
          "base_uri": "https://localhost:8080/"
        },
        "outputId": "af9cb696-bfca-4f9e-e4dc-25195e462dc7"
      },
      "outputs": [
        {
          "output_type": "stream",
          "name": "stdout",
          "text": [
            "Total number of rows: 65290\n",
            "Number of unique user IDs: 1540\n",
            "Number of unique product IDs: 5689\n"
          ]
        }
      ],
      "source": [
        "# Total number of rows\n",
        "total_rows = df_final.shape[0]\n",
        "\n",
        "# Number of unique users\n",
        "unique_users = df_final[\"user_id\"].nunique()\n",
        "\n",
        "# Number of unique products\n",
        "unique_products = df_final[\"prod_id\"].nunique()\n",
        "\n",
        "# Print results\n",
        "print(f\"Total number of rows: {total_rows}\")\n",
        "print(f\"Number of unique user IDs: {unique_users}\")\n",
        "print(f\"Number of unique product IDs: {unique_products}\")"
      ]
    },
    {
      "cell_type": "markdown",
      "metadata": {
        "id": "RfDnhSS4-sVI"
      },
      "source": [
        "### **Users with the most number of ratings**"
      ]
    },
    {
      "cell_type": "code",
      "execution_count": 52,
      "metadata": {
        "id": "n7MX452q5JtR",
        "colab": {
          "base_uri": "https://localhost:8080/"
        },
        "outputId": "0fc0fb6c-1299-4554-f482-da3964c30e71"
      },
      "outputs": [
        {
          "output_type": "stream",
          "name": "stdout",
          "text": [
            "Top 10 Users Based on Number of Ratings:\n",
            "user_id\n",
            "A5JLAU2ARJ0BO     520\n",
            "ADLVFFE4VBT8      501\n",
            "A3OXHLG6DIBRW8    498\n",
            "A6FIAB28IS79      431\n",
            "A680RUE1FDO8B     406\n",
            "A1ODOGXEYECQQ8    380\n",
            "A36K2N527TXXJN    314\n",
            "A2AY4YUOX2N1BQ    311\n",
            "AWPODHOB4GFWL     308\n",
            "ARBKYIVNYWK3C     296\n",
            "Name: count, dtype: int64\n"
          ]
        }
      ],
      "source": [
        "# Top 10 users based on the number of ratings\n",
        "# Get the top 10 users based on the number of ratings\n",
        "top_users = df['user_id'].value_counts().head(10)\n",
        "\n",
        "print(\"Top 10 Users Based on Number of Ratings:\")\n",
        "print(top_users)"
      ]
    },
    {
      "cell_type": "markdown",
      "metadata": {
        "id": "EnYTx-Ol-sVg"
      },
      "source": [
        "**Now that we have explored and prepared the data, let's build the first recommendation system.**"
      ]
    },
    {
      "cell_type": "markdown",
      "metadata": {
        "id": "6xYGrGVy5JtS"
      },
      "source": [
        "## **Model 1: Rank Based Recommendation System**"
      ]
    },
    {
      "cell_type": "code",
      "execution_count": 55,
      "metadata": {
        "id": "yxZTj1UPxhXh",
        "scrolled": true,
        "colab": {
          "base_uri": "https://localhost:8080/"
        },
        "outputId": "a2fab6df-9da6-4ba6-aa54-97860acd83f0"
      },
      "outputs": [
        {
          "output_type": "stream",
          "name": "stdout",
          "text": [
            "Average rating for each product:\n",
            "prod_id\n",
            "1400501466    3.333333\n",
            "1400532655    3.833333\n",
            "1400599997    4.000000\n",
            "9983891212    4.875000\n",
            "B00000DM9W    5.000000\n",
            "                ...   \n",
            "B00L21HC7A    4.625000\n",
            "B00L2442H0    4.916667\n",
            "B00L26YDA4    4.384615\n",
            "B00L3YHF6O    5.000000\n",
            "B00LGQ6HL8    5.000000\n",
            "Name: rating, Length: 5689, dtype: float64\n",
            "\n",
            "Count of ratings for each product:\n",
            "prod_id\n",
            "1400501466     6\n",
            "1400532655     6\n",
            "1400599997     5\n",
            "9983891212     8\n",
            "B00000DM9W     5\n",
            "              ..\n",
            "B00L21HC7A    16\n",
            "B00L2442H0    12\n",
            "B00L26YDA4    13\n",
            "B00L3YHF6O    14\n",
            "B00LGQ6HL8     5\n",
            "Name: rating, Length: 5689, dtype: int64\n",
            "\n",
            "First few rows of final_rating dataframe:\n",
            "            avg_rating  rating_count\n",
            "prod_id                             \n",
            "1400501466    3.333333             6\n",
            "1400532655    3.833333             6\n",
            "1400599997    4.000000             5\n",
            "9983891212    4.875000             8\n",
            "B00000DM9W    5.000000             5\n",
            "            avg_rating  rating_count\n",
            "prod_id                             \n",
            "B00LGQ6HL8         5.0             5\n",
            "B003DZJQQI         5.0            14\n",
            "B005FDXF2C         5.0             7\n",
            "B00I6CVPVC         5.0             7\n",
            "B00B9KOCYA         5.0             8\n"
          ]
        }
      ],
      "source": [
        "# Calculate the average rating for each product\n",
        "avg_rating = df_final.groupby(\"prod_id\")[\"rating\"].mean()\n",
        "print(f\"Average rating for each product:\\n{avg_rating}\")\n",
        "\n",
        "# Calculate the count of ratings for each product\n",
        "rating_count = df_final.groupby(\"prod_id\")[\"rating\"].count()\n",
        "print(f\"\\nCount of ratings for each product:\\n{rating_count}\")\n",
        "\n",
        "# Create a dataframe with calculated average and count of ratings\n",
        "final_rating = pd.DataFrame({\"avg_rating\": avg_rating, \"rating_count\": rating_count})\n",
        "\n",
        "# Print the first few rows of the final_rating dataframe\n",
        "print(\"\\nFirst few rows of final_rating dataframe:\")\n",
        "print(final_rating.head())\n",
        "\n",
        "# Sort the dataframe by average of ratings in the descending order\n",
        "final_rating = final_rating.sort_values(by=\"avg_rating\", ascending=False)\n",
        "\n",
        "# See the first five records of the \"final_rating\" dataset\n",
        "print(final_rating.head())\n"
      ]
    },
    {
      "cell_type": "code",
      "execution_count": 56,
      "metadata": {
        "id": "zKU__5s1xhXi",
        "colab": {
          "base_uri": "https://localhost:8080/"
        },
        "outputId": "c9df50b5-75bf-4643-b0c5-cbc55a90a7f8"
      },
      "outputs": [
        {
          "output_type": "stream",
          "name": "stdout",
          "text": [
            "            avg_rating  rating_count\n",
            "prod_id                             \n",
            "B001TH7GUU    4.871795            78\n",
            "B003ES5ZUU    4.864130           184\n",
            "B0019EHU8G    4.855556            90\n",
            "B006W8U2MU    4.824561            57\n",
            "B000QUUFRW    4.809524            84\n",
            "B000HPV3RW    4.803922            51\n",
            "B001TH7GSW    4.803279            61\n",
            "B000BQ7GW8    4.777778            54\n",
            "B000N99BBC    4.772455           167\n",
            "B002WE6D44    4.770000           100\n"
          ]
        }
      ],
      "source": [
        "# Defining a function to get the top n products based on the highest average rating and minimum interactions\n",
        "def get_top_n_products(final_rating, n=10, min_interactions=50):\n",
        "    \"\"\"\n",
        "    Function to get top N products based on highest average rating and minimum interactions. \"\"\"\n",
        "\n",
        "    # Filter products that have at least 'min_interactions' number of ratings\n",
        "    filtered_products = final_rating[final_rating['rating_count'] >= min_interactions]\n",
        "\n",
        "    # Sort by average rating in descending order\n",
        "    top_products = filtered_products.sort_values(by=\"avg_rating\", ascending=False).head(n)\n",
        "\n",
        "    return top_products\n",
        "\n",
        "# Finding products with minimum number of interactions\n",
        "min_interactions = 50\n",
        "\n",
        "# Get top 10 products based on ratings and minimum interactions\n",
        "top_products = get_top_n_products(final_rating, n=10, min_interactions=min_interactions)\n",
        "\n",
        "# Sorting values with respect to average rating\n",
        "print(top_products)\n"
      ]
    },
    {
      "cell_type": "markdown",
      "metadata": {
        "id": "F8l6373PxhXi"
      },
      "source": [
        "### **Recommending top 5 products with 50 minimum interactions based on popularity**"
      ]
    },
    {
      "cell_type": "code",
      "execution_count": 57,
      "metadata": {
        "id": "dBxdLiM_xhXi",
        "colab": {
          "base_uri": "https://localhost:8080/"
        },
        "outputId": "a98e7676-67ca-46ab-c152-448a97bb9212"
      },
      "outputs": [
        {
          "output_type": "stream",
          "name": "stdout",
          "text": [
            "Top 5 Popular Products with at least 50 Interactions:\n",
            "            avg_rating  rating_count\n",
            "prod_id                             \n",
            "B0088CJT4U    4.218447           206\n",
            "B003ES5ZUU    4.864130           184\n",
            "B000N99BBC    4.772455           167\n",
            "B007WTAJTO    4.701220           164\n",
            "B00829TIEK    4.436242           149\n"
          ]
        }
      ],
      "source": [
        "# Since most of the steps to achieving this has been adjusted previously, here are additional codes to recommend top 5 products based on popularity.\n",
        "\n",
        "# Filter products with at least 50 ratings (minimum interactions)\n",
        "min_interactions = 50\n",
        "popular_products = final_rating[final_rating[\"rating_count\"] >= min_interactions]\n",
        "\n",
        "# Sort by rating count (popularity) in descending order\n",
        "top_5_popular_products = popular_products.sort_values(by=\"rating_count\", ascending=False).head(5)\n",
        "\n",
        "# Display the top 5 popular products\n",
        "print(\"Top 5 Popular Products with at least 50 Interactions:\")\n",
        "print(top_5_popular_products)\n"
      ]
    },
    {
      "cell_type": "markdown",
      "metadata": {
        "id": "l9_xW_UMxhXj"
      },
      "source": [
        "### **Recommending top 5 products with 100 minimum interactions based on popularity**"
      ]
    },
    {
      "cell_type": "code",
      "execution_count": 58,
      "metadata": {
        "id": "dZgGZCUoxhXj",
        "colab": {
          "base_uri": "https://localhost:8080/"
        },
        "outputId": "c0b77df9-3fc2-43da-d7c8-bbbbf303403c"
      },
      "outputs": [
        {
          "output_type": "stream",
          "name": "stdout",
          "text": [
            "Top 5 Popular Products with at least 100 Interactions:\n",
            "            avg_rating  rating_count\n",
            "prod_id                             \n",
            "B0088CJT4U    4.218447           206\n",
            "B003ES5ZUU    4.864130           184\n",
            "B000N99BBC    4.772455           167\n",
            "B007WTAJTO    4.701220           164\n",
            "B00829TIEK    4.436242           149\n"
          ]
        }
      ],
      "source": [
        "# Since most of the steps to achieving this has been adjusted previously, here are additional codes to recommend top 5 products based on popularity.\n",
        "\n",
        "# Filter products with at least 100 ratings (minimum interactions)\n",
        "min_interactions = 100\n",
        "popular_products = final_rating[final_rating[\"rating_count\"] >= min_interactions]\n",
        "\n",
        "# Sort by rating count (popularity) in descending order\n",
        "top_5_popular_products = popular_products.sort_values(by=\"rating_count\", ascending=False).head(5)\n",
        "\n",
        "# Display the top 5 popular products\n",
        "print(\"Top 5 Popular Products with at least 100 Interactions:\")\n",
        "print(top_5_popular_products)"
      ]
    },
    {
      "cell_type": "markdown",
      "metadata": {
        "id": "BL-m68a15JtT",
        "outputId": "69132b0f-8d3f-4798-f6a0-249e17a3c822"
      },
      "source": [
        "We have recommended the **top 5** products by using the popularity recommendation system. Now, let's build a recommendation system using **collaborative filtering.**"
      ]
    },
    {
      "cell_type": "markdown",
      "metadata": {
        "id": "sJI5kiiGvOOK"
      },
      "source": [
        "## **Model 2: Collaborative Filtering Recommendation System**"
      ]
    },
    {
      "cell_type": "markdown",
      "metadata": {
        "id": "skzc0N1_nVNB"
      },
      "source": [
        "### **Building a baseline user-user similarity based recommendation system**"
      ]
    },
    {
      "cell_type": "markdown",
      "metadata": {
        "id": "d4Uo_MYMnVNB"
      },
      "source": [
        "- Below, we are building **similarity-based recommendation systems** using `cosine` similarity and using **KNN to find similar users** which are the nearest neighbor to the given user.  \n",
        "- We will be using a new library, called `surprise`, to build the remaining models. Let's first import the necessary classes and functions from this library."
      ]
    },
    {
      "cell_type": "code",
      "execution_count": 59,
      "metadata": {
        "id": "UJ1wEylUpexj"
      },
      "outputs": [],
      "source": [
        "# To compute the accuracy of models\n",
        "from surprise import accuracy\n",
        "\n",
        "# Class is used to parse a file containing ratings, data should be in structure - user ; item ; rating\n",
        "from surprise.reader import Reader\n",
        "\n",
        "# Class for loading datasets\n",
        "from surprise.dataset import Dataset\n",
        "\n",
        "# For tuning model hyperparameters\n",
        "from surprise.model_selection import GridSearchCV\n",
        "\n",
        "# For splitting the rating data in train and test datasets\n",
        "from surprise.model_selection import train_test_split\n",
        "\n",
        "# For implementing similarity-based recommendation system\n",
        "from surprise.prediction_algorithms.knns import KNNBasic\n",
        "\n",
        "# For implementing matrix factorization based recommendation system\n",
        "from surprise.prediction_algorithms.matrix_factorization import SVD\n",
        "\n",
        "# for implementing K-Fold cross-validation\n",
        "from surprise.model_selection import KFold\n",
        "\n",
        "# For implementing clustering-based recommendation system\n",
        "from surprise import CoClustering"
      ]
    },
    {
      "cell_type": "markdown",
      "metadata": {
        "id": "54MqVAtDTsnl"
      },
      "source": [
        "**Before building the recommendation systems, let's  go over some basic terminologies we are going to use:**"
      ]
    },
    {
      "cell_type": "markdown",
      "metadata": {
        "id": "Qsxb3xhnTsnl"
      },
      "source": [
        "**Relevant item:** An item (product in this case) that is actually **rated higher than the threshold rating** is relevant, if the **actual rating is below the threshold then it is a non-relevant item**.  \n",
        "\n",
        "**Recommended item:** An item that's **predicted rating is higher than the threshold is a recommended item**, if the **predicted rating is below the threshold then that product will not be recommended to the user**.  \n"
      ]
    },
    {
      "cell_type": "markdown",
      "metadata": {
        "id": "moyLUHCuTsnl"
      },
      "source": [
        "**False Negative (FN):** It is the **frequency of relevant items that are not recommended to the user**. If the relevant items are not recommended to the user, then the user might not buy the product/item. This would result in the **loss of opportunity for the service provider**, which they would like to minimize.\n",
        "\n",
        "**False Positive (FP):** It is the **frequency of recommended items that are actually not relevant**. In this case, the recommendation system is not doing a good job of finding and recommending the relevant items to the user. This would result in **loss of resources for the service provider**, which they would also like to minimize."
      ]
    },
    {
      "cell_type": "markdown",
      "metadata": {
        "id": "Yuvc2VaZTsnl"
      },
      "source": [
        "**Recall:** It is the **fraction of actually relevant items that are recommended to the user**, i.e., if out of 10 relevant products, 6 are recommended to the user then recall is 0.60. Higher the value of recall better is the model. It is one of the metrics to do the performance assessment of classification models.\n",
        "\n",
        "**Precision:** It is the **fraction of recommended items that are relevant actually**, i.e., if out of 10 recommended items, 6 are found relevant by the user then precision is 0.60. The higher the value of precision better is the model. It is one of the metrics to do the performance assessment of classification models."
      ]
    },
    {
      "cell_type": "markdown",
      "metadata": {
        "id": "8NLc36Y8Tsnm"
      },
      "source": [
        "**While making a recommendation system, it becomes customary to look at the performance of the model. In terms of how many recommendations are relevant and vice-versa, below are some most used performance metrics used in the assessment of recommendation systems.**"
      ]
    },
    {
      "cell_type": "markdown",
      "metadata": {
        "id": "cqF8fRBqTsnm"
      },
      "source": [
        "### **Precision@k, Recall@ k, and F1-score@k**"
      ]
    },
    {
      "cell_type": "markdown",
      "metadata": {
        "id": "imMJNF0HTsnm"
      },
      "source": [
        "**Precision@k** - It is the **fraction of recommended items that are relevant in `top k` predictions**. The value of k is the number of recommendations to be provided to the user. One can choose a variable number of recommendations to be given to a unique user.  \n",
        "\n",
        "\n",
        "**Recall@k** - It is the **fraction of relevant items that are recommended to the user in `top k` predictions**.\n",
        "\n",
        "**F1-score@k** - It is the **harmonic mean of Precision@k and Recall@k**. When **precision@k and recall@k both seem to be important** then it is useful to use this metric because it is representative of both of them."
      ]
    },
    {
      "cell_type": "markdown",
      "metadata": {
        "id": "jBW4BUhWTsnm"
      },
      "source": [
        "### **Some useful functions**"
      ]
    },
    {
      "cell_type": "markdown",
      "metadata": {
        "id": "QOBHKh0eTsnm"
      },
      "source": [
        "- Below function takes the **recommendation model** as input and gives the **precision@k, recall@k, and F1-score@k** for that model.  \n",
        "- To compute **precision and recall**, **top k** predictions are taken under consideration for each user.\n",
        "- We will use the precision and recall to compute the F1-score."
      ]
    },
    {
      "cell_type": "code",
      "execution_count": 60,
      "metadata": {
        "id": "Rxn-GahOTsnm"
      },
      "outputs": [],
      "source": [
        "def precision_recall_at_k(model, k = 10, threshold = 3.5):\n",
        "    \"\"\"Return precision and recall at k metrics for each user\"\"\"\n",
        "\n",
        "    # First map the predictions to each user\n",
        "    user_est_true = defaultdict(list)\n",
        "\n",
        "    # Making predictions on the test data\n",
        "    predictions = model.test(testset)\n",
        "\n",
        "    for uid, _, true_r, est, _ in predictions:\n",
        "        user_est_true[uid].append((est, true_r))\n",
        "\n",
        "    precisions = dict()\n",
        "    recalls = dict()\n",
        "    for uid, user_ratings in user_est_true.items():\n",
        "\n",
        "        # Sort user ratings by estimated value\n",
        "        user_ratings.sort(key = lambda x: x[0], reverse = True)\n",
        "\n",
        "        # Number of relevant items\n",
        "        n_rel = sum((true_r >= threshold) for (_, true_r) in user_ratings)\n",
        "\n",
        "        # Number of recommended items in top k\n",
        "        n_rec_k = sum((est >= threshold) for (est, _) in user_ratings[:k])\n",
        "\n",
        "        # Number of relevant and recommended items in top k\n",
        "        n_rel_and_rec_k = sum(((true_r >= threshold) and (est >= threshold))\n",
        "                              for (est, true_r) in user_ratings[:k])\n",
        "\n",
        "        # Precision@K: Proportion of recommended items that are relevant\n",
        "        # When n_rec_k is 0, Precision is undefined. Therefore, we are setting Precision to 0 when n_rec_k is 0\n",
        "\n",
        "        precisions[uid] = n_rel_and_rec_k / n_rec_k if n_rec_k != 0 else 0\n",
        "\n",
        "        # Recall@K: Proportion of relevant items that are recommended\n",
        "        # When n_rel is 0, Recall is undefined. Therefore, we are setting Recall to 0 when n_rel is 0\n",
        "\n",
        "        recalls[uid] = n_rel_and_rec_k / n_rel if n_rel != 0 else 0\n",
        "\n",
        "    # Mean of all the predicted precisions are calculated.\n",
        "    precision = round((sum(prec for prec in precisions.values()) / len(precisions)), 3)\n",
        "\n",
        "    # Mean of all the predicted recalls are calculated.\n",
        "    recall = round((sum(rec for rec in recalls.values()) / len(recalls)), 3)\n",
        "\n",
        "    accuracy.rmse(predictions)\n",
        "\n",
        "    print('Precision: ', precision) # Command to print the overall precision\n",
        "\n",
        "    print('Recall: ', recall) # Command to print the overall recall\n",
        "\n",
        "    print('F_1 score: ', round((2*precision*recall)/(precision+recall), 3)) # Formula to compute the F-1 score"
      ]
    },
    {
      "cell_type": "markdown",
      "metadata": {
        "id": "_ZmsamDVyek-"
      },
      "source": [
        "**Hints:**\n",
        "\n",
        "- To compute **precision and recall**, a **threshold of 3.5 and k value of 10 can be considered for the recommended and relevant ratings**.\n",
        "- Think about the performance metric to choose."
      ]
    },
    {
      "cell_type": "markdown",
      "metadata": {
        "id": "8hxjJMTwnVNB"
      },
      "source": [
        "Below we are loading the **`rating` dataset**, which is a **pandas DataFrame**, into a **different format called `surprise.dataset.DatasetAutoFolds`**, which is required by this library. To do this, we will be **using the classes `Reader` and `Dataset`.**"
      ]
    },
    {
      "cell_type": "code",
      "execution_count": 65,
      "metadata": {
        "id": "rGfYDiOCpe4X",
        "colab": {
          "base_uri": "https://localhost:8080/"
        },
        "outputId": "923cb01d-3a37-4986-d7a4-42a50a2a30dc"
      },
      "outputs": [
        {
          "output_type": "stream",
          "name": "stdout",
          "text": [
            "Data successfully loaded and split into training and testing sets.\n",
            "Number of training interactions: 52232\n",
            "Number of testing interactions: 13058\n"
          ]
        }
      ],
      "source": [
        "# Instantiating Reader scale with expected rating scale\n",
        "reader = Reader(rating_scale=(1, 5))\n",
        "\n",
        "# Loading the rating dataset\n",
        "data = Dataset.load_from_df(df_final[[\"user_id\", \"prod_id\", \"rating\"]], reader)\n",
        "\n",
        "# Splitting the data into train and test datasets\n",
        "trainset, testset = train_test_split(data, test_size=0.2, random_state=42)\n",
        "\n",
        "print(\"Data successfully loaded and split into training and testing sets.\")\n",
        "print(f\"Number of training interactions: {trainset.n_ratings}\")\n",
        "print(f\"Number of testing interactions: {len(testset)}\")"
      ]
    },
    {
      "cell_type": "markdown",
      "metadata": {
        "id": "DmHTEt7TnVNC"
      },
      "source": [
        "Now, we are **ready to build the first baseline similarity-based recommendation system** using the cosine similarity."
      ]
    },
    {
      "cell_type": "markdown",
      "metadata": {
        "id": "SVDfVHB4tQfU"
      },
      "source": [
        "### **Building the user-user Similarity-based Recommendation System**"
      ]
    },
    {
      "cell_type": "code",
      "execution_count": 67,
      "metadata": {
        "id": "vO3FL7iape8A",
        "scrolled": false,
        "colab": {
          "base_uri": "https://localhost:8080/"
        },
        "outputId": "18f9c99f-bb91-488b-a428-d86af8e0e7b8"
      },
      "outputs": [
        {
          "output_type": "stream",
          "name": "stdout",
          "text": [
            "Model training completed.\n",
            "RMSE: 1.0012\n",
            "Precision@10: 0.855\n",
            "Recall@10: 0.858\n",
            "F1-score@10: 0.856\n"
          ]
        }
      ],
      "source": [
        "# Declaring the similarity options\n",
        "sim_options = {\n",
        "    \"name\": \"cosine\",  # Use Cosine similarity\n",
        "    \"user_based\": True,  # User-User similarity\n",
        "}\n",
        "\n",
        "\n",
        "# Initialize the KNNBasic model using sim_options declared, Verbose = False, and setting random_state = 1\n",
        "# Initialize the KNNBasic model using the declared similarity options\n",
        "model = KNNBasic(sim_options=sim_options, verbose=False, random_state=1)\n",
        "\n",
        "\n",
        "# Fit the model on the training data\n",
        "model.fit(trainset)\n",
        "\n",
        "print(\"Model training completed.\")\n",
        "\n",
        "\n",
        "# Let us compute precision@k, recall@k, and f_1 score using the precision_recall_at_k function defined above\n",
        "from collections import defaultdict\n",
        "\n",
        "def precision_recall_at_k(model, k=10, threshold=3.5):\n",
        "    \"\"\"Return precision and recall at k metrics for each user\"\"\"\n",
        "\n",
        "    # First map the predictions to each user\n",
        "    user_est_true = defaultdict(list)\n",
        "\n",
        "    # Making predictions on the test data\n",
        "    predictions = model.test(testset)\n",
        "\n",
        "    for uid, _, true_r, est, _ in predictions:\n",
        "        user_est_true[uid].append((est, true_r))\n",
        "\n",
        "    precisions = dict()\n",
        "    recalls = dict()\n",
        "    for uid, user_ratings in user_est_true.items():\n",
        "\n",
        "        # Sort user ratings by estimated value\n",
        "        user_ratings.sort(key=lambda x: x[0], reverse=True)\n",
        "\n",
        "        # Number of relevant items\n",
        "        n_rel = sum((true_r >= threshold) for (_, true_r) in user_ratings)\n",
        "\n",
        "        # Number of recommended items in top k\n",
        "        n_rec_k = sum((est >= threshold) for (est, _) in user_ratings[:k])\n",
        "\n",
        "        # Number of relevant and recommended items in top k\n",
        "        n_rel_and_rec_k = sum(((true_r >= threshold) and (est >= threshold))\n",
        "                              for (est, true_r) in user_ratings[:k])\n",
        "\n",
        "        # Precision@K\n",
        "        precisions[uid] = n_rel_and_rec_k / n_rec_k if n_rec_k != 0 else 0\n",
        "\n",
        "        # Recall@K\n",
        "        recalls[uid] = n_rel_and_rec_k / n_rel if n_rel != 0 else 0\n",
        "\n",
        "    # Mean of all predicted precisions\n",
        "    precision = round((sum(prec for prec in precisions.values()) / len(precisions)), 3)\n",
        "\n",
        "    # Mean of all predicted recalls\n",
        "    recall = round((sum(rec for rec in recalls.values()) / len(recalls)), 3)\n",
        "\n",
        "    # Compute RMSE\n",
        "    accuracy.rmse(predictions)\n",
        "\n",
        "    print(f\"Precision@{k}: {precision}\")\n",
        "    print(f\"Recall@{k}: {recall}\")\n",
        "    print(f\"F1-score@{k}: {round((2 * precision * recall) / (precision + recall), 3)}\")\n",
        "\n",
        "# Compute precision, recall, and F1-score\n",
        "precision_recall_at_k(model, k=10, threshold=3.5)\n"
      ]
    },
    {
      "cell_type": "markdown",
      "source": [
        "Here is what the output says:\n",
        "1. RMSE (1.0012): This measures the difference between the actual and predicted ratings. A lower RMSE is better, and 1.0012 suggests the model's predictions are fairly close to actual ratings.  \n",
        "2. Precision@10 (0.855): This means 85.5% of the recommended items in the top 10 were actually relevant, showing high recommendation accuracy.  \n",
        "3. Recall@10 (0.858): The model successfully captured 85.8% of all relevant items in the top 10 recommendations, indicating strong recall.  \n",
        "4. F1-score@10 (0.856): Since F1-score is the harmonic mean of precision and recall, a score of 0.856 means the model maintains a great balance between both.  \n",
        "5. High Precision & Recall: The model is highly effective in suggesting relevant products and ensuring users receive quality recommendations.  \n",
        "6. Slight RMSE Error: Although RMSE is slightly above 1, it's within an acceptable range, implying the model still performs well in predicting user preferences.  \n",
        "7. Overall Performance: The model is well-tuned, capturing relevant items efficiently while maintaining minimal prediction error, making it a strong baseline recommender system."
      ],
      "metadata": {
        "id": "k3WWQl5UIvie"
      }
    },
    {
      "cell_type": "markdown",
      "metadata": {
        "id": "reFD0-nsnVNC"
      },
      "source": [
        "Let's now **predict rating for a user with `userId=A3LDPF5FMB782Z` and `productId=1400501466`** as shown below. Here the user has already interacted or watched the product with productId '1400501466' and given a rating of 5."
      ]
    },
    {
      "cell_type": "code",
      "execution_count": 68,
      "metadata": {
        "id": "Sxd23bZ9pe_x",
        "colab": {
          "base_uri": "https://localhost:8080/"
        },
        "outputId": "4a90b0fa-14b8-408f-9036-7478f994c8ff"
      },
      "outputs": [
        {
          "output_type": "stream",
          "name": "stdout",
          "text": [
            "Predicted rating for User A3LDPF5FMB782Z on Product 1400501466: 3.40\n"
          ]
        }
      ],
      "source": [
        "# Predicting rating for a sample user with an interacted product\n",
        "# Predict the rating for a specific user-product pair\n",
        "user_id = \"A3LDPF5FMB782Z\"\n",
        "prod_id = \"1400501466\"\n",
        "\n",
        "# Using the trained model to predict the rating\n",
        "predicted_rating = model.predict(user_id, prod_id)\n",
        "\n",
        "# Display the predicted rating\n",
        "print(f\"Predicted rating for User {user_id} on Product {prod_id}: {predicted_rating.est:.2f}\")\n"
      ]
    },
    {
      "cell_type": "markdown",
      "metadata": {
        "id": "cj6ecbglTsno"
      },
      "source": [
        "Below is the **list of users who have not seen the product with product id \"1400501466\"**."
      ]
    },
    {
      "cell_type": "code",
      "execution_count": 77,
      "metadata": {
        "id": "xCRBMD-RTsno",
        "colab": {
          "base_uri": "https://localhost:8080/"
        },
        "outputId": "6ee5f717-14d3-434d-d83b-9cbda78b9a62"
      },
      "outputs": [
        {
          "output_type": "stream",
          "name": "stdout",
          "text": [
            "Number of unique users (excluding product 1400501466): 1540\n",
            "Sample user IDs: ['A2ZR3YTMEEIIZ4' 'A3CLWR1UUZT6TG' 'A5JLAU2ARJ0BO' 'A1P4XD7IORSEFN'\n",
            " 'A341HCMGNZCBIT' 'A3HPCRD9RX351S' 'A1DQHS7MOVYYYA' 'ALUNVOQRXOZIA'\n",
            " 'A19N3S7CBSU6O7' 'A3G7BEJJCPD6DS' 'A2JXS1JII6SAUD' 'A1C82BC5GNABOA'\n",
            " 'A1VHCO8RQFIGQJ' 'A2Z9S2RQD542CP' 'A2QIC4G483SQQA' 'A3L6L5O89JTX2T'\n",
            " 'A1OGCPMSIVK7G4' 'A18HE80910BTZI' 'A3F9CBHV4OHFBS' 'A1T1YSCDW0PD25'\n",
            " 'ABVYGB2TKBO8F' 'A11ED8O95W2103' 'A3NCIN6TNL0MGA' 'ASHJAZC9OA9NS'\n",
            " 'A105TOJ6LTVMBG' 'A14JBDSWKPKTZA' 'A3QX0ERX4D03TF' 'A13WREJ05GMRA6'\n",
            " 'A3N8O68DOEQ2FE' 'A3J8A5L5AF5TX9' 'A2HRHF83I3NDGT' 'A1R3GN9MEJFXM3'\n",
            " 'A3963R7EPE3A7E' 'A2JOPUWVV0XQJ3' 'AAW7X3GRD8GY9' 'A3V8P0O224OBDB'\n",
            " 'AY6A8KPYCE6B0' 'A212MDP6K4VJS5' 'A28X0LT2100RL1' 'A1V3TRGWOMA8LC'\n",
            " 'A1NZLRAZJGD99W' 'A1522TN5FVJL0Y' 'A3UXW18DP4WSD6' 'A3CW0ZLUO5X2B1'\n",
            " 'A3TBMGNSEQBWIL' 'AEZJTA4KDIWY8' 'A22CW0ZHY3NJH8' 'A2V7EO331SFUF6'\n",
            " 'A3977M5S0GIG5H' 'A1F1A0QQP2XVH5' 'A231WM2Z2JL0U3' 'A2JWF9IG8PJAOA'\n",
            " 'A3LWC833HQIG7J' 'A38RMU1Y5TDP9' 'A3D822N1K2IAQD' 'A33775AIB1A664'\n",
            " 'ARXU3FESTWMJJ' 'A3A15L96IYUO6V' 'A3PGVJF37JSHFO' 'A2WJ5XSE4I9F55'\n",
            " 'A1V5TRJXTI6F01' 'ATOKT8QYK967L' 'ANRS196NKFVUU' 'A3639Z6O5JBLIZ'\n",
            " 'A3ER6ARJ23CIN8' 'A33152QEGO2MZN' 'A3HRDRQ5VAFPQS' 'A1KY5G5FP31F2F'\n",
            " 'A1MQQEM7W77L62' 'AUCIFMWP3DU8R' 'ALHC64J88LVWO' 'A2PC9ZZIFV31B1'\n",
            " 'A54S9CIUV5VNB' 'A1XE3M22N91451' 'A313H6238N589' 'A3SDJ70H00OQCJ'\n",
            " 'A2WB7LZ595CR50' 'A356RFKNIG043B' 'AW6A4PPENVZY3' 'A149RNR5RH19YY'\n",
            " 'A32LX4XJ2LU740' 'A1J75JJ0Q2OEJN' 'A6FIAB28IS79' 'A2RWHTNM5P3I8Y'\n",
            " 'A3077MQTAKOVFZ' 'A1FF2PLA84KNAE' 'A1CM4HI4S5P0WO' 'A3775OP5VTX5ON'\n",
            " 'A2QAOP52OEB5EV' 'A1KD8NJPZ01R37' 'A7Y6AVS576M03' 'A1B6O7SAIYG2N0'\n",
            " 'A1KDUQ2HU0WD68' 'A3RGHO0Q938FRS' 'A4GGT6O0GQNV2' 'A1LHMSY3Q46PJS'\n",
            " 'A18EA7MNLXP9H5' 'A1U5IJHJK84S54' 'A1B4MIXYVIKMU2' 'A2BMZRO0H7TFCS'\n",
            " 'A2EZTM9WY5B5IL' 'A298GL2D0BHGKZ' 'A34LQ791ACZ0JC' 'A1ZM846Y7AUYD'\n",
            " 'A2IIAQ7VVAHXTD' 'A1U4GOVZWL8ZTL' 'A2MCRCK1V61FWQ' 'A1F9Z42CFF9IAY'\n",
            " 'A32AFX2PUJ82HG' 'A3EQQHWJ1EEYEU' 'A2QI2JHSIQ3SN3' 'A506HOOCVL8GW'\n",
            " 'A3GQY0TFRG0MPZ' 'A54SG05AV6S4H' 'A1URXSRV6WDHVY' 'A1B8EJQU73YGL9'\n",
            " 'A2WLNSZ9U0T1S3' 'A2T3S3VTW65VO5' 'A1V4VVBQBFXRHC' 'AKT8TGIT6VVZ5'\n",
            " 'A1MJMYLRTZ76ZX' 'AS8C336DDLSO4' 'A32QOZWIKQDNZX' 'APQQK1V695AUE'\n",
            " 'AW68KVDV7BBRS' 'A2MOJANFPX353G' 'A3OXHLG6DIBRW8' 'A2AF0NOCM71J0B'\n",
            " 'A250AXLRBVYKB4' 'A2EF8N7ZE7ONWX' 'AE88D7OM7YU99' 'A3J2YU2D9BH2J7'\n",
            " 'A4IL0CLL27Q33' 'AAR7CEPXYJA0T' 'A100WO06OQR8BQ' 'A3NGOG8Z78AZSD'\n",
            " 'A1R19YYR5OR26T' 'A2MOD50IHEDH3G' 'A3TAS1AG6FMBQW' 'AHIK7BUXFRMT8'\n",
            " 'A23GFTVIETX7DS' 'A36K2N527TXXJN' 'A3HC7NWLKCPX4X' 'A1EH2S92FHWZRP'\n",
            " 'AZOK5STV85FBJ' 'AHNHLGKIZ2N3B' 'AN81JUYW2SL24' 'A3QMJMTLJC34QC'\n",
            " 'AT2J7H5TRZM8Z' 'A3NHUQ33CFH3VM' 'AYMD77ITD15PT' 'A1IU7S4HCK1XK0'\n",
            " 'A2NYK9KWFMJV4Y' 'A1D27BCSYV7VWH' 'A1BC62X6HZJGZR' 'A34UVV757IKPVB'\n",
            " 'A2ED50E3KWKUKW' 'A21NS06GDEA3V0' 'ASJSX783R5HTZ' 'ADOR3TR7GDF68'\n",
            " 'A15XI2BEGGFEOW' 'AZCE11PSTCH1L' 'A6VPK7X53QNAQ' 'A1VJ0V58N0698J'\n",
            " 'A30J7WQV0ZNRXG' 'A2IFGGXG3YV3Y6' 'AEJAGHLC675A7' 'A259MPG6SOL02P'\n",
            " 'A1RPTVW5VEOSI' 'A1U5NWJOYH2QQH' 'A1AQ8JT2A3UWMY' 'A2SKEQT0WTB954'\n",
            " 'ARC5ASW9CUAGP' 'A3AGQAXTX6VRJ3' 'A1R377IPZOKLMM' 'AZAC8O310IK4E'\n",
            " 'AJCR7L4AXL2OG' 'AGEWOMQ90BV8R' 'A3EP26M3QHINXT' 'A1ODOGXEYECQQ8'\n",
            " 'A2AEZQ3DGBBLPR' 'A1TDR7Y90SVCHL' 'A87CILADRIZW0' 'A3EZEP0FX5BC1P'\n",
            " 'ATDE9JYCPI0L1' 'A2X8KN82L07RSK' 'AMKNPIDFLRFMP' 'A3GFQHHVMEAIO'\n",
            " 'A1JWSDDIH5Z7DV' 'A2SL5IW096Z2BL' 'AUITG1DJ3QUGK' 'A3TPNC3TKGCCEI'\n",
            " 'A1EXGL6L0QQ0M5' 'A2B7BUH8834Y6M' 'A1GNYV0RA0EQSS' 'A1SDPA1J98UP4L'\n",
            " 'A225G2TFM76GYX' 'A19W47CXJJP1MI' 'A1Z7U9K6X3FEOU' 'A1L1N3J6XNABO2'\n",
            " 'A1SX9PHJWTDMF9' 'A1GBT4UN2RW7XY' 'A35W3JQYP0M655' 'A3TA1UJWRJF9NC'\n",
            " 'A35HUT8MQMT21L' 'A2R6RA8FRBS608' 'A2HDTOF8222KN3' 'AT28RL25Q2OLK'\n",
            " 'A11D1KHM7DVOQK' 'A3T7V207KRDE2O' 'A3FS3FJPD3RJTD' 'AN9CP6J4JF91X'\n",
            " 'A145LBW8ZHF0TW' 'A365PBEOWM7EI7' 'A2HMF8ZR67BNZS' 'A4WEZJOIZIV4U'\n",
            " 'A1C5WS021EL3WO' 'A17Z0LVY96TO53' 'A2UQK3DAZ8NO2T' 'A5KMMY627T3W'\n",
            " 'A5MCDQ60DWUEV' 'A1HSM98KUGTHNY' 'A2PK64OVZA1U8Z' 'A3R1GJY2MY8041'\n",
            " 'A1X3DA7C61WZLQ' 'A1YVO5V1SO18DZ' 'A12DQZKRKTNF5E' 'A74UT8IQCM0I2'\n",
            " 'A30XZK10EZN9V4' 'A203OCQQ12MAVT' 'A26CPEEWB2WKRE' 'A2XX2A4OJCDNLZ'\n",
            " 'A11KZ906QD08C5' 'A2J3VCGBNDLAKF' 'A1ZTR0FR5AW9B4' 'A25TNBMJ4ZO7RD'\n",
            " 'A14I1F2H7NOYDC' 'A3CFU12GS5CZCN' 'A1V4A5U5O3TMMD' 'A3PD8JD9L4WEII'\n",
            " 'A1FDV3WPOHREY9' 'A194Y47BF3CUTJ' 'A26LD9FQHTM8ZH' 'A3QDY9I0CNMD2W'\n",
            " 'A2J0IBS4PFRO2C' 'A3SX5MZTCZRQLF' 'AGXV8E7XK9J6H' 'A10Y058K7B96C6'\n",
            " 'A3Q4TYJVAM4IRM' 'A3PJJTAKISAFI9' 'A3REK3OFONWB1Q' 'A3L9E0YI7C5G0W'\n",
            " 'A1H98YV5K5BUX0' 'A4UGMKUSX9XHI' 'A3P4T1DKRWTL36' 'AQNSQW4495SG0'\n",
            " 'A21T0D2F7SKG5S' 'A3OYO7B6SS7QLH' 'A23E9QQHJLNGUI' 'A3QU3O79AGNWCY'\n",
            " 'A2GMZZ6TDYOHY7' 'A3TR3KLL5PXSZ8' 'AHF4I1FSIHABC' 'A1RJKTYC03L0JY'\n",
            " 'A2ARDVMUGDFED6' 'AIJQU979J6UFY' 'A3EPJSPH03AS29' 'A1N3EH28S4DI8L'\n",
            " 'A2DS9DLMSU2M2Z' 'A24HWYHR28JJ7A' 'A25C2M3QF9G7OQ' 'A30C8WHQ2CYFO4'\n",
            " 'A2W9GX82SLKROQ' 'A3EZFFPVS34AMO' 'AAQ9NJ480N9W5' 'A2PY5ED630H0QJ'\n",
            " 'A3CEUT263RNUDO' 'A1PSVZBM894R5H' 'A2XU6J41ZQOJ2V' 'A3N4VTNFPMTHEF'\n",
            " 'AQ55H30MZSV0Q' 'A11R5VW7IM6ISQ' 'A2NP9CGUSFP22E' 'A1D9V11QUHXENQ'\n",
            " 'A9BWUH9XKZ2DQ' 'A17W0GMB0YY83M' 'A3IOQ7NVVLAUEE' 'A1X1CEGHTHMBL1'\n",
            " 'A3V0YR50F1XSKP' 'A1CMD08Z49PGKQ' 'AN2IZT80ZUNJN' 'A1CMWB7AWQUQH4'\n",
            " 'A2Y3WWPUKIJ59I' 'A3QDMDSANPYGUX' 'A3DQWFWINN3V5A' 'A2NX6MFZP8TM6S'\n",
            " 'A100UD67AHFODS' 'A1QRST0A3IQIEF' 'A2WBVO6X3KPMDT' 'AOMEH9W6LHC4S']\n"
          ]
        }
      ],
      "source": [
        "# Find unique user_id where prod_id is not equal to \"1400501466\"\n",
        "filtered_users = df_final[df_final[\"prod_id\"] != \"1400501466\"][\"user_id\"].unique()\n",
        "\n",
        "# Display unique user IDs\n",
        "print(\"Number of unique users (excluding product 1400501466):\", len(filtered_users))\n",
        "print(\"Sample user IDs:\", filtered_users[:300])\n"
      ]
    },
    {
      "cell_type": "markdown",
      "metadata": {
        "id": "KT42ecaSTsno"
      },
      "source": [
        "* It can be observed from the above list that **user \"A34BZM6S9L7QI4\" has not seen the product with productId \"1400501466\"** as this userId is a part of the above list."
      ]
    },
    {
      "cell_type": "markdown",
      "metadata": {
        "id": "EXSgq8OEnVNE"
      },
      "source": [
        "**Below we are predicting rating for `userId=A34BZM6S9L7QI4` and `prod_id=1400501466`.**"
      ]
    },
    {
      "cell_type": "code",
      "execution_count": 71,
      "metadata": {
        "id": "PbFcBj1PpfEV",
        "colab": {
          "base_uri": "https://localhost:8080/"
        },
        "outputId": "7dd3c051-3d41-458c-ed2d-470706679ccd"
      },
      "outputs": [
        {
          "output_type": "stream",
          "name": "stdout",
          "text": [
            "Predicted rating for User A34BZM6S9L7QI4 on Product 1400501466: 4.29\n"
          ]
        }
      ],
      "source": [
        "# Predicting rating for a sample user with a non interacted product\n",
        "user_id = \"A34BZM6S9L7QI4\"\n",
        "prod_id = \"1400501466\"\n",
        "\n",
        "# Predict the rating\n",
        "predicted_rating = model.predict(user_id, prod_id)\n",
        "print(f\"Predicted rating for User {user_id} on Product {prod_id}: {predicted_rating.est:.2f}\")\n"
      ]
    },
    {
      "cell_type": "markdown",
      "metadata": {
        "id": "ejjof6csnVNF"
      },
      "source": [
        "### **Improving similarity-based recommendation system by tuning its hyperparameters**"
      ]
    },
    {
      "cell_type": "markdown",
      "metadata": {
        "id": "p2j4VvfQnVNF"
      },
      "source": [
        "Below, we will be tuning hyperparameters for the `KNNBasic` algorithm. Let's try to understand some of the hyperparameters of the KNNBasic algorithm:\n",
        "\n",
        "- **k** (int) – The (max) number of neighbors to take into account for aggregation. Default is 40.\n",
        "- **min_k** (int) – The minimum number of neighbors to take into account for aggregation. If there are not enough neighbors, the prediction is set to the global mean of all ratings. Default is 1.\n",
        "- **sim_options** (dict) – A dictionary of options for the similarity measure. And there are four similarity measures available in surprise -\n",
        "    - cosine\n",
        "    - msd (default)\n",
        "    - Pearson\n",
        "    - Pearson baseline"
      ]
    },
    {
      "cell_type": "code",
      "execution_count": 81,
      "metadata": {
        "id": "9LmPbSUSTsnp",
        "colab": {
          "base_uri": "https://localhost:8080/"
        },
        "outputId": "c6219dd9-3b12-4a6e-a154-38f74fa579ef"
      },
      "outputs": [
        {
          "output_type": "stream",
          "name": "stdout",
          "text": [
            "Best RMSE Score: 0.9689\n",
            "Best Hyperparameter Combination: {'k': 50, 'min_k': 5, 'sim_options': {'name': 'cosine', 'user_based': True}}\n"
          ]
        }
      ],
      "source": [
        "# Setting up parameter grid to tune the hyperparameters\n",
        "from surprise.model_selection import GridSearchCV\n",
        "\n",
        "# Define the parameter grid\n",
        "param_grid = {\n",
        "    \"k\": [20, 30, 40, 50],\n",
        "    \"min_k\": [1, 5, 10],\n",
        "    \"sim_options\": {\n",
        "        \"name\": [\"cosine\", \"msd\", \"pearson\", \"pearson_baseline\"],\n",
        "        \"user_based\": [True],\n",
        "    },\n",
        "}\n",
        "\n",
        "# Performing 3-fold cross-validation to tune the hyperparameters\n",
        "\n",
        "gs = GridSearchCV(KNNBasic, param_grid, measures=[\"rmse\"], cv=3, n_jobs=-1)\n",
        "\n",
        "# Fitting the data\n",
        "gs.fit(data)\n",
        "\n",
        "# Best RMSE score\n",
        "best_rmse = gs.best_score[\"rmse\"]\n",
        "print(f\"Best RMSE Score: {best_rmse:.4f}\")\n",
        "\n",
        "# Combination of parameters that gave the best RMSE score\n",
        "best_params = gs.best_params[\"rmse\"]\n",
        "print(\"Best Hyperparameter Combination:\", best_params)\n",
        "\n",
        "\n"
      ]
    },
    {
      "cell_type": "markdown",
      "metadata": {
        "id": "L2fHNvu7nVNF"
      },
      "source": [
        "Once the grid search is **complete**, we can get the **optimal values for each of those hyperparameters**."
      ]
    },
    {
      "cell_type": "markdown",
      "metadata": {
        "id": "NHWgxu_YnVNG"
      },
      "source": [
        "Now, let's build the **final model by using tuned values of the hyperparameters**, which we received by using **grid search cross-validation**."
      ]
    },
    {
      "cell_type": "code",
      "execution_count": 82,
      "metadata": {
        "id": "PujRJA8X_JEJ",
        "colab": {
          "base_uri": "https://localhost:8080/"
        },
        "outputId": "f09e6685-178e-464a-d1b8-f391945f51a1"
      },
      "outputs": [
        {
          "output_type": "stream",
          "name": "stdout",
          "text": [
            "Optimal Similarity Measure: cosine\n",
            "Computing the cosine similarity matrix...\n",
            "Done computing similarity matrix.\n",
            "RMSE: 0.9509\n",
            "Precision@10: 0.849\n",
            "Recall@10: 0.893\n",
            "F1-score@10: 0.87\n"
          ]
        }
      ],
      "source": [
        "# Using the optimal similarity measure for user-user based collaborative filtering\n",
        "\n",
        "optimal_params = gs.best_params[\"rmse\"]\n",
        "optimal_similarity = optimal_params[\"sim_options\"][\"name\"]\n",
        "print(f\"Optimal Similarity Measure: {optimal_similarity}\")\n",
        "\n",
        "# Creating an instance of KNNBasic with optimal hyperparameter values\n",
        "from surprise import KNNBasic\n",
        "final_model = KNNBasic(\n",
        "    k=optimal_params[\"k\"],\n",
        "    min_k=optimal_params[\"min_k\"],\n",
        "    sim_options={\"name\": optimal_similarity, \"user_based\": True}\n",
        ")\n",
        "\n",
        "# Training the algorithm on the trainset\n",
        "final_model.fit(trainset)\n",
        "\n",
        "# Let us compute precision@k and recall@k also with k =10\n",
        "precision_recall_at_k(final_model, k=10, threshold=3.5)\n"
      ]
    },
    {
      "cell_type": "markdown",
      "source": [
        "The optimized user-user collaborative filtering model achieved an improved RMSE of 0.9509, indicating more accurate rating predictions. The model's Precision@10 (84.9%) and Recall@10 (89.3%) show its strong ability to recommend relevant products while minimizing incorrect suggestions. Using tuned hyperparameters (k=50, min_k=5, and cosine similarity), the model outperformed the baseline, delivering more precise and balanced recommendations. Overall, this refined recommendation system enhances user experience by providing highly relevant product suggestions with minimal prediction errors."
      ],
      "metadata": {
        "id": "XPUyx-2OPc9F"
      }
    },
    {
      "cell_type": "markdown",
      "metadata": {
        "id": "YhcAXK0CnVNG"
      },
      "source": [
        "### **Steps:**\n",
        "- **Predict rating for the user with `userId=\"A3LDPF5FMB782Z\"`, and `prod_id= \"1400501466\"` using the optimized model**\n",
        "- **Predict rating for `userId=\"A34BZM6S9L7QI4\"` who has not interacted with `prod_id =\"1400501466\"`, by using the optimized model**\n",
        "- **Compare the output with the output from the baseline model**"
      ]
    },
    {
      "cell_type": "code",
      "execution_count": 83,
      "metadata": {
        "id": "FgV63lHiq1TV",
        "colab": {
          "base_uri": "https://localhost:8080/"
        },
        "outputId": "527ed9db-d21e-41ba-d251-0dfcff703a0e"
      },
      "outputs": [
        {
          "output_type": "stream",
          "name": "stdout",
          "text": [
            "Predicted rating for User A3LDPF5FMB782Z on Product 1400501466: 3.40\n"
          ]
        }
      ],
      "source": [
        "# Use sim_user_user_optimized model to recommend for userId \"A3LDPF5FMB782Z\" and productId 1400501466\n",
        "user_id = \"A3LDPF5FMB782Z\"\n",
        "prod_id = \"1400501466\"\n",
        "\n",
        "# Using the trained and optimized user-user similarity model\n",
        "predicted_rating = final_model.predict(user_id, prod_id)\n",
        "\n",
        "# Display the predicted rating\n",
        "print(f\"Predicted rating for User {user_id} on Product {prod_id}: {predicted_rating.est:.2f}\")\n"
      ]
    },
    {
      "cell_type": "code",
      "execution_count": 84,
      "metadata": {
        "id": "HXO2Ztjhq1bN",
        "colab": {
          "base_uri": "https://localhost:8080/"
        },
        "outputId": "3986939d-439b-4738-ac1f-f198ee96696d"
      },
      "outputs": [
        {
          "output_type": "stream",
          "name": "stdout",
          "text": [
            "Predicted rating for User A34BZM6S9L7QI4 on Product 1400501466: 4.29\n"
          ]
        }
      ],
      "source": [
        "# Use sim_user_user_optimized model to recommend for userId \"A34BZM6S9L7QI4\" and productId \"1400501466\"\n",
        "user_id = \"A34BZM6S9L7QI4\"\n",
        "prod_id = \"1400501466\"\n",
        "\n",
        "# Using the trained and optimized user-user similarity model\n",
        "predicted_rating = final_model.predict(user_id, prod_id)\n",
        "\n",
        "# Display the predicted rating\n",
        "print(f\"Predicted rating for User {user_id} on Product {prod_id}: {predicted_rating.est:.2f}\")"
      ]
    },
    {
      "cell_type": "markdown",
      "metadata": {
        "id": "op_zwO_FnVNH"
      },
      "source": [
        "### **Identifying similar users to a given user (nearest neighbors)**"
      ]
    },
    {
      "cell_type": "markdown",
      "metadata": {
        "id": "o2QsfqhanVNH"
      },
      "source": [
        "We can also find out **similar users to a given user** or its **nearest neighbors** based on this KNNBasic algorithm. Below, we are finding the 5 most similar users to the first user in the list with internal id 0, based on the `msd` distance metric."
      ]
    },
    {
      "cell_type": "code",
      "execution_count": 85,
      "metadata": {
        "id": "TbFle7cKmBJG",
        "colab": {
          "base_uri": "https://localhost:8080/"
        },
        "outputId": "9c1753e5-bd4a-49bf-9e62-2af370cbb7b0"
      },
      "outputs": [
        {
          "output_type": "stream",
          "name": "stdout",
          "text": [
            "Computing the msd similarity matrix...\n",
            "Done computing similarity matrix.\n",
            "Top 5 similar users to user with inner ID 0: [6, 42, 44, 54, 66]\n"
          ]
        }
      ],
      "source": [
        "# 0 is the inner id of the above user\n",
        "\n",
        "sim_options = {\n",
        "    \"name\": \"msd\",  # Mean Squared Difference similarity metric\n",
        "    \"user_based\": True  # User-User similarity\n",
        "}\n",
        "\n",
        "# Initialize the KNNBasic model with MSD similarity\n",
        "sim_user_user_msd = KNNBasic(sim_options=sim_options)\n",
        "\n",
        "# Train the model on the trainset\n",
        "sim_user_user_msd.fit(trainset)\n",
        "\n",
        "# 0 is the inner ID of the first user in the dataset\n",
        "inner_id = 0\n",
        "\n",
        "# Find the 5 most similar users to the given user (inner_id=0)\n",
        "similar_users = sim_user_user_msd.get_neighbors(inner_id, k=5)\n",
        "\n",
        "# Print the list of similar users (inner IDs)\n",
        "print(f\"Top 5 similar users to user with inner ID {inner_id}: {similar_users}\")\n"
      ]
    },
    {
      "cell_type": "markdown",
      "metadata": {
        "id": "Z0NsrX_anVNH"
      },
      "source": [
        "### **Implementing the recommendation algorithm based on optimized KNNBasic model**"
      ]
    },
    {
      "cell_type": "markdown",
      "metadata": {
        "id": "U3ESobDynVNI"
      },
      "source": [
        "Below we will be implementing a function where the input parameters are:\n",
        "\n",
        "- data: A **rating** dataset\n",
        "- user_id: A user id **against which we want the recommendations**\n",
        "- top_n: The **number of products we want to recommend**\n",
        "- algo: the algorithm we want to use **for predicting the ratings**\n",
        "- The output of the function is a **set of top_n items** recommended for the given user_id based on the given algorithm"
      ]
    },
    {
      "cell_type": "code",
      "execution_count": 86,
      "metadata": {
        "id": "vW9V1Tk65HlY"
      },
      "outputs": [],
      "source": [
        "def get_recommendations(data, user_id, top_n, algo):\n",
        "\n",
        "    # Creating an empty list to store the recommended product ids\n",
        "    recommendations = []\n",
        "\n",
        "    # Creating an user item interactions matrix\n",
        "    user_item_interactions_matrix = data.pivot(index = 'user_id', columns = 'prod_id', values = 'rating')\n",
        "\n",
        "    # Extracting those product ids which the user_id has not interacted yet\n",
        "    non_interacted_products = user_item_interactions_matrix.loc[user_id][user_item_interactions_matrix.loc[user_id].isnull()].index.tolist()\n",
        "\n",
        "    # Looping through each of the product ids which user_id has not interacted yet\n",
        "    for item_id in non_interacted_products:\n",
        "\n",
        "        # Predicting the ratings for those non interacted product ids by this user\n",
        "        est = algo.predict(user_id, item_id).est\n",
        "\n",
        "        # Appending the predicted ratings\n",
        "        recommendations.append((item_id, est))\n",
        "\n",
        "    # Sorting the predicted ratings in descending order\n",
        "    recommendations.sort(key = lambda x: x[1], reverse = True)\n",
        "\n",
        "    return recommendations[:top_n] # Returing top n highest predicted rating products for this user"
      ]
    },
    {
      "cell_type": "markdown",
      "metadata": {
        "id": "Oj_S7kh4nVNI"
      },
      "source": [
        "**Predicting top 5 products for userId = \"A3LDPF5FMB782Z\" with similarity based recommendation system**"
      ]
    },
    {
      "cell_type": "code",
      "execution_count": 87,
      "metadata": {
        "id": "qWbR85mI5Hrk",
        "colab": {
          "base_uri": "https://localhost:8080/"
        },
        "outputId": "f6974999-c818-4e2a-f770-0bc216344fbf"
      },
      "outputs": [
        {
          "output_type": "stream",
          "name": "stdout",
          "text": [
            "Top 5 Recommended Products for User A3LDPF5FMB782Z:\n",
            "Product ID: B000067RT6, Predicted Rating: 5.00\n",
            "Product ID: B000BQ7GW8, Predicted Rating: 5.00\n",
            "Product ID: B001ENW61I, Predicted Rating: 5.00\n",
            "Product ID: B001TH7GUU, Predicted Rating: 5.00\n",
            "Product ID: B001TH7T2U, Predicted Rating: 5.00\n"
          ]
        }
      ],
      "source": [
        "# Making top 5 recommendations for user_id \"A3LDPF5FMB782Z\" with a similarity-based recommendation engine\n",
        "\n",
        "user_id = \"A3LDPF5FMB782Z\"\n",
        "top_n = 5\n",
        "\n",
        "recommended_products = get_recommendations(df_final, user_id, top_n, final_model)\n",
        "\n",
        "print(f\"Top {top_n} Recommended Products for User {user_id}:\")\n",
        "for item_id, rating in recommended_products:\n",
        "    print(f\"Product ID: {item_id}, Predicted Rating: {rating:.2f}\")\n"
      ]
    },
    {
      "cell_type": "code",
      "execution_count": 88,
      "metadata": {
        "id": "b5WfIX0Z6_q2",
        "colab": {
          "base_uri": "https://localhost:8080/"
        },
        "outputId": "31800b12-04af-4ee1-bdb6-80d38cd972ae"
      },
      "outputs": [
        {
          "output_type": "stream",
          "name": "stdout",
          "text": [
            "Top 5 Recommended Products DataFrame:\n",
            "      prod_id  predicted_ratings\n",
            "0  B000067RT6                  5\n",
            "1  B000BQ7GW8                  5\n",
            "2  B001ENW61I                  5\n",
            "3  B001TH7GUU                  5\n",
            "4  B001TH7T2U                  5\n"
          ]
        }
      ],
      "source": [
        "# Building the dataframe for above recommendations with columns \"prod_id\" and \"predicted_ratings\"\n",
        "\n",
        "recommendations_df = pd.DataFrame(recommended_products, columns=[\"prod_id\", \"predicted_ratings\"])\n",
        "\n",
        "\n",
        "print(\"Top 5 Recommended Products DataFrame:\")\n",
        "print(recommendations_df)\n"
      ]
    },
    {
      "cell_type": "markdown",
      "metadata": {
        "id": "QgbzJKk7Tsnr"
      },
      "source": [
        "### **Item-Item Similarity-based Collaborative Filtering Recommendation System**"
      ]
    },
    {
      "cell_type": "markdown",
      "metadata": {
        "id": "qTJu_2hcTsnr"
      },
      "source": [
        "* Above we have seen **similarity-based collaborative filtering** where similarity is calculated **between users**. Now let us look into similarity-based collaborative filtering where similarity is seen **between items**."
      ]
    },
    {
      "cell_type": "code",
      "execution_count": 89,
      "metadata": {
        "id": "W5RMcdzjTsns",
        "scrolled": false,
        "colab": {
          "base_uri": "https://localhost:8080/"
        },
        "outputId": "33fa7d6d-6eb2-46e4-8bd5-3a5bfe944178"
      },
      "outputs": [
        {
          "output_type": "stream",
          "name": "stdout",
          "text": [
            "Computing the cosine similarity matrix...\n",
            "Done computing similarity matrix.\n",
            "RMSE: 0.9950\n",
            "Precision@10: 0.838\n",
            "Recall@10: 0.845\n",
            "F1-score@10: 0.841\n"
          ]
        }
      ],
      "source": [
        "# Declaring the similarity options\n",
        "\n",
        "sim_options = {\n",
        "    \"name\": \"cosine\",\n",
        "    \"user_based\": False\n",
        "}\n",
        "\n",
        "# KNN algorithm is used to find desired similar items. Use random_state=1\n",
        "item_item_knn = KNNBasic(sim_options=sim_options, random_state=1)\n",
        "\n",
        "# Train the algorithm on the trainset, and predict ratings for the test set\n",
        "item_item_knn.fit(trainset)\n",
        "predictions = item_item_knn.test(testset)\n",
        "\n",
        "# Let us compute precision@k, recall@k, and f_1 score with k = 10\n",
        "precision_recall_at_k(item_item_knn, k=10, threshold=3.5)\n"
      ]
    },
    {
      "cell_type": "markdown",
      "source": [
        "The RMSE of 0.9950 indicates that the predicted ratings are fairly close to actual ratings, though there is still some room for improvement. The Precision@10 of 0.838 means that 83.8% of the top 10 recommended items are actually relevant to the user. The Recall@10 of 0.845 and F1-score@10 of 0.841 show that the model is effectively identifying and recommending relevant products while maintaining a good balance between precision and recall."
      ],
      "metadata": {
        "id": "c2pWpwoRTnPT"
      }
    },
    {
      "cell_type": "markdown",
      "metadata": {
        "id": "jFbcDQmxTsns"
      },
      "source": [
        "Let's now **predict a rating for a user with `userId = A3LDPF5FMB782Z` and `prod_Id = 1400501466`** as shown below. Here the user has already interacted or watched the product with productId \"1400501466\"."
      ]
    },
    {
      "cell_type": "code",
      "execution_count": 90,
      "metadata": {
        "id": "JsF-aaWYTsns",
        "colab": {
          "base_uri": "https://localhost:8080/"
        },
        "outputId": "d0705083-8ed8-492d-adc9-0d1f8f222262"
      },
      "outputs": [
        {
          "output_type": "stream",
          "name": "stdout",
          "text": [
            "Predicted rating for User A3LDPF5FMB782Z on Product 1400501466: 4.27\n"
          ]
        }
      ],
      "source": [
        "# Predicting rating for a sample user with an interacted product\n",
        "\n",
        "user_id = \"A3LDPF5FMB782Z\"\n",
        "product_id = \"1400501466\"\n",
        "\n",
        "predicted_rating = item_item_knn.predict(user_id, product_id)\n",
        "\n",
        "print(f\"Predicted rating for User {user_id} on Product {product_id}: {predicted_rating.est:.2f}\")\n"
      ]
    },
    {
      "cell_type": "markdown",
      "source": [
        "The model predicts that user A3LDPF5FMB782Z would likely rate product 1400501466 as 4.27, indicating a strong positive preference for the item."
      ],
      "metadata": {
        "id": "NXyDqh0lUaRX"
      }
    },
    {
      "cell_type": "markdown",
      "metadata": {
        "id": "BqKGZoAtTsns"
      },
      "source": [
        "Below we are **predicting rating for the `userId = A34BZM6S9L7QI4` and `prod_id = 1400501466`**."
      ]
    },
    {
      "cell_type": "code",
      "execution_count": 91,
      "metadata": {
        "id": "5yILOxXRTsns",
        "colab": {
          "base_uri": "https://localhost:8080/"
        },
        "outputId": "e48bf19e-d10f-4f30-c372-96290147c3b7"
      },
      "outputs": [
        {
          "output_type": "stream",
          "name": "stdout",
          "text": [
            "Predicted rating for User A34BZM6S9L7QI4  on Product 1400501466: 4.29\n"
          ]
        }
      ],
      "source": [
        "# Predicting rating for a sample user with a non interacted product\n",
        "user_id = \"A34BZM6S9L7QI4 \"\n",
        "non_interacted_product_id = \"1400501466\"\n",
        "\n",
        "# Predict the rating using the trained item-item collaborative filtering model\n",
        "predicted_rating = item_item_knn.predict(user_id, non_interacted_product_id)\n",
        "\n",
        "# Display the predicted rating\n",
        "print(f\"Predicted rating for User {user_id} on Product {non_interacted_product_id}: {predicted_rating.est:.2f}\")\n"
      ]
    },
    {
      "cell_type": "markdown",
      "source": [
        "The model predicts that user A34BZM6S9L7QI4 would likely rate product 1400501466 as 4.29, indicating a strong positive preference for the item."
      ],
      "metadata": {
        "id": "Tbxzp55pU6g4"
      }
    },
    {
      "cell_type": "markdown",
      "metadata": {
        "id": "meSvpNLj_EjD"
      },
      "source": [
        "### **Hyperparameter tuning the item-item similarity-based model**\n",
        "- Use the following values for the param_grid and tune the model.\n",
        "  - 'k': [10, 20, 30]\n",
        "  - 'min_k': [3, 6, 9]\n",
        "  - 'sim_options': {'name': ['msd', 'cosine']\n",
        "  - 'user_based': [False]\n",
        "- Use GridSearchCV() to tune the model using the 'rmse' measure\n",
        "- Print the best score and best parameters"
      ]
    },
    {
      "cell_type": "code",
      "execution_count": 92,
      "metadata": {
        "id": "f5bcZ3HgTsnt",
        "colab": {
          "base_uri": "https://localhost:8080/"
        },
        "outputId": "d8a1c63a-af40-439d-e287-038e949aa3fa"
      },
      "outputs": [
        {
          "output_type": "stream",
          "name": "stdout",
          "text": [
            "Best RMSE Score: 0.9749\n",
            "Best Hyperparameter Combination: {'k': 20, 'min_k': 6, 'sim_options': {'name': 'msd', 'user_based': False}}\n"
          ]
        }
      ],
      "source": [
        "# Setting up parameter grid to tune the hyperparameters\n",
        "param_grid = {\n",
        "    \"k\": [10, 20, 30],\n",
        "    \"min_k\": [3, 6, 9],\n",
        "    \"sim_options\": {\n",
        "        \"name\": [\"msd\", \"cosine\"],\n",
        "        \"user_based\": [False]\n",
        "    }\n",
        "}\n",
        "\n",
        "# Performing 3-fold cross validation to tune the hyperparameters\n",
        "gs_item_item = GridSearchCV(KNNBasic, param_grid, measures=[\"rmse\"], cv=3, n_jobs=-1)\n",
        "\n",
        "# Fitting the data\n",
        "gs_item_item.fit(data)\n",
        "\n",
        "# Find the best RMSE score\n",
        "best_rmse_item_item = gs_item_item.best_score[\"rmse\"]\n",
        "print(f\"Best RMSE Score: {best_rmse_item_item:.4f}\")\n",
        "\n",
        "# Find the combination of parameters that gave the best RMSE score\n",
        "best_params_item_item = gs_item_item.best_params[\"rmse\"]\n",
        "print(\"Best Hyperparameter Combination:\", best_params_item_item)\n"
      ]
    },
    {
      "cell_type": "markdown",
      "metadata": {
        "id": "1psOlx6zTsnt"
      },
      "source": [
        "Once the **grid search** is complete, we can get the **optimal values for each of those hyperparameters as shown above.**"
      ]
    },
    {
      "cell_type": "markdown",
      "metadata": {
        "id": "JrSTaQemTsnt"
      },
      "source": [
        "Now let's build the **final model** by using **tuned values of the hyperparameters** which we received by using grid search cross-validation."
      ]
    },
    {
      "cell_type": "markdown",
      "metadata": {
        "id": "kOS9Dwnd_LN6"
      },
      "source": [
        "### **Use the best parameters from GridSearchCV to build the optimized item-item similarity-based model. Compare the performance of the optimized model with the baseline model.**"
      ]
    },
    {
      "cell_type": "code",
      "execution_count": 93,
      "metadata": {
        "id": "dSeiM1qeTsnt",
        "colab": {
          "base_uri": "https://localhost:8080/"
        },
        "outputId": "8475c863-d289-49ec-89a0-1c8a3a43fe61"
      },
      "outputs": [
        {
          "output_type": "stream",
          "name": "stdout",
          "text": [
            "Optimal Similarity Measure: msd\n",
            "Computing the msd similarity matrix...\n",
            "Done computing similarity matrix.\n",
            "RMSE: 0.9578\n",
            "Precision@10: 0.839\n",
            "Recall@10: 0.88\n",
            "F1-score@10: 0.859\n",
            "RMSE: 0.9578\n"
          ]
        }
      ],
      "source": [
        "# Using the optimal similarity measure for item-item based collaborative filtering\n",
        "optimal_params_item_item = gs_item_item.best_params[\"rmse\"]\n",
        "\n",
        "optimal_similarity_item_item = optimal_params_item_item[\"sim_options\"][\"name\"]\n",
        "\n",
        "print(f\"Optimal Similarity Measure: {optimal_similarity_item_item}\")\n",
        "\n",
        "# Creating an instance of KNNBasic with optimal hyperparameter values\n",
        "final_item_item_model = KNNBasic(\n",
        "    k=optimal_params_item_item[\"k\"],\n",
        "    min_k=optimal_params_item_item[\"min_k\"],\n",
        "    sim_options={\"name\": optimal_similarity_item_item, \"user_based\": False}\n",
        ")\n",
        "\n",
        "# Training the algorithm on the trainset\n",
        "final_item_item_model.fit(trainset)\n",
        "\n",
        "# Let us compute precision@k and recall@k, f1_score and RMSE\n",
        "precision_recall_at_k(final_item_item_model, k=10, threshold=3.5)\n",
        "predictions_item_item = final_item_item_model.test(testset)\n",
        "rmse_item_item = accuracy.rmse(predictions_item_item)\n"
      ]
    },
    {
      "cell_type": "markdown",
      "source": [
        "The RMSE of 0.9578 indicates that the predicted ratings are close to actual ratings, but there is some room for improvement. The Precision@10 of 0.839 means that 83.9 percent of the top 10 recommended items are actually relevant to the user. The Recall@10 of 0.88 shows that the model successfully identifies 88 percent of all relevant items for users. The F1-score@10 of 0.859 represents a good balance between precision and recall, making the model effective in providing accurate recommendations."
      ],
      "metadata": {
        "id": "bItxr9gQXZNI"
      }
    },
    {
      "cell_type": "markdown",
      "metadata": {
        "id": "Sbcj_H94Tsnt"
      },
      "source": [
        "### **Steps:**\n",
        "- **Predict rating for the user with `userId=\"A3LDPF5FMB782Z\"`, and `prod_id= \"1400501466\"` using the optimized model**\n",
        "- **Predict rating for `userId=\"A34BZM6S9L7QI4\"` who has not interacted with `prod_id =\"1400501466\"`, by using the optimized model**\n",
        "- **Compare the output with the output from the baseline model**"
      ]
    },
    {
      "cell_type": "code",
      "execution_count": 94,
      "metadata": {
        "id": "gIBRRvdoTsnt",
        "colab": {
          "base_uri": "https://localhost:8080/"
        },
        "outputId": "e031ed43-e0e3-47b7-da91-1e6c0873a50f"
      },
      "outputs": [
        {
          "output_type": "stream",
          "name": "stdout",
          "text": [
            "Predicted rating for User A3LDPF5FMB782Z on Product 1400501466: 4.71\n"
          ]
        }
      ],
      "source": [
        "# Use sim_item_item_optimized model to recommend for userId \"A3LDPF5FMB782Z\" and productId \"1400501466\"\n",
        "user_id = \"A3LDPF5FMB782Z\"\n",
        "prod_id = \"1400501466\"\n",
        "\n",
        "predicted_rating = final_item_item_model.predict(user_id, prod_id)\n",
        "\n",
        "print(f\"Predicted rating for User {user_id} on Product {prod_id}: {predicted_rating.est:.2f}\")\n"
      ]
    },
    {
      "cell_type": "code",
      "execution_count": 95,
      "metadata": {
        "id": "15UqVwuocU03",
        "colab": {
          "base_uri": "https://localhost:8080/"
        },
        "outputId": "42c5af7a-c267-4102-9109-168e38a27188"
      },
      "outputs": [
        {
          "output_type": "stream",
          "name": "stdout",
          "text": [
            "Predicted rating for User A34BZM6S9L7QI4 on Product 1400501466: 4.29\n"
          ]
        }
      ],
      "source": [
        "# Use sim_item_item_optimized model to recommend for userId \"A34BZM6S9L7QI4\" and productId \"1400501466\"\n",
        "user_id = \"A34BZM6S9L7QI4\"\n",
        "product_id = \"1400501466\"\n",
        "\n",
        "predicted_rating = final_item_item_model.predict(user_id, product_id)\n",
        "\n",
        "print(f\"Predicted rating for User {user_id} on Product {product_id}: {predicted_rating.est:.2f}\")\n"
      ]
    },
    {
      "cell_type": "markdown",
      "metadata": {
        "id": "MDlNB7tnTsnu"
      },
      "source": [
        "### **Identifying similar items to a given item (nearest neighbors)**"
      ]
    },
    {
      "cell_type": "markdown",
      "metadata": {
        "id": "RLdDiFA6Tsnu"
      },
      "source": [
        "We can also find out **similar items** to a given item or its nearest neighbors based on this **KNNBasic algorithm**. Below we are finding the 5 most similar items to the item with internal id 0 based on the `msd` distance metric."
      ]
    },
    {
      "cell_type": "code",
      "execution_count": 96,
      "metadata": {
        "id": "ZRJS4oDFTsnu",
        "colab": {
          "base_uri": "https://localhost:8080/"
        },
        "outputId": "d544f6fc-23fb-4c62-d715-6f9d8f0e6a18"
      },
      "outputs": [
        {
          "output_type": "stream",
          "name": "stdout",
          "text": [
            "Computing the msd similarity matrix...\n",
            "Done computing similarity matrix.\n",
            "Top 5 similar items to item with inner ID 0: [29, 53, 67, 106, 151]\n"
          ]
        }
      ],
      "source": [
        "# Define similarity options for MSD distance metric\n",
        "sim_options = {\n",
        "    \"name\": \"msd\",  # Mean Squared Difference similarity metric\n",
        "    \"user_based\": False  # Item-Item similarity\n",
        "}\n",
        "\n",
        "# Initialize the KNNBasic model with MSD similarity for item-item filtering\n",
        "sim_item_item_msd = KNNBasic(sim_options=sim_options)\n",
        "\n",
        "# Train the model on the trainset\n",
        "sim_item_item_msd.fit(trainset)\n",
        "\n",
        "# 0 is the inner ID of the first item in the dataset\n",
        "item_inner_id = 0\n",
        "\n",
        "# Find the 5 most similar items to the given item (inner_id=0)\n",
        "similar_items = sim_item_item_msd.get_neighbors(item_inner_id, k=5)\n",
        "\n",
        "# Print the list of similar items (inner IDs)\n",
        "print(f\"Top 5 similar items to item with inner ID {item_inner_id}: {similar_items}\")\n"
      ]
    },
    {
      "cell_type": "markdown",
      "metadata": {
        "id": "fAZk75IncU04"
      },
      "source": [
        "**Predicting top 5 products for userId = \"A1A5KUIIIHFF4U\" with similarity based recommendation system.**\n",
        "\n",
        "**Hint:** Use the get_recommendations() function."
      ]
    },
    {
      "cell_type": "code",
      "execution_count": 97,
      "metadata": {
        "id": "rzoEbuZFTsnu",
        "colab": {
          "base_uri": "https://localhost:8080/"
        },
        "outputId": "171cd938-5c3f-44cf-e70f-29a6d59cc02a"
      },
      "outputs": [
        {
          "output_type": "stream",
          "name": "stdout",
          "text": [
            "Top 5 Recommended Products for User A1A5KUIIIHFF4U:\n",
            "      prod_id  predicted_ratings\n",
            "0  1400532655           4.292024\n",
            "1  1400599997           4.292024\n",
            "2  9983891212           4.292024\n",
            "3  B00000DM9W           4.292024\n",
            "4  B00000J1V5           4.292024\n"
          ]
        }
      ],
      "source": [
        "# Making top 5 recommendations for user_id A1A5KUIIIHFF4U with similarity-based recommendation engine.\n",
        "user_id = \"A1A5KUIIIHFF4U\"\n",
        "top_n = 5\n",
        "\n",
        "# Get the top 5 recommended products for the user using the similarity-based recommendation engine\n",
        "recommended_products = get_recommendations(df_final, user_id, top_n, final_item_item_model)\n",
        "\n",
        "# Convert recommendations into a DataFrame\n",
        "recommendations_df = pd.DataFrame(recommended_products, columns=[\"prod_id\", \"predicted_ratings\"])\n",
        "\n",
        "# Display the recommendations\n",
        "print(f\"Top {top_n} Recommended Products for User {user_id}:\")\n",
        "print(recommendations_df)\n"
      ]
    },
    {
      "cell_type": "code",
      "execution_count": 98,
      "metadata": {
        "id": "_kXVTiysTsnv",
        "colab": {
          "base_uri": "https://localhost:8080/"
        },
        "outputId": "e13cd8a0-3515-42dc-d07b-e29e97b3ced9"
      },
      "outputs": [
        {
          "output_type": "stream",
          "name": "stdout",
          "text": [
            "Top 5 Recommended Products DataFrame:\n",
            "      prod_id  predicted_ratings\n",
            "0  1400532655           4.292024\n",
            "1  1400599997           4.292024\n",
            "2  9983891212           4.292024\n",
            "3  B00000DM9W           4.292024\n",
            "4  B00000J1V5           4.292024\n"
          ]
        }
      ],
      "source": [
        "# Building the dataframe for above recommendations with columns \"prod_id\" and \"predicted_ratings\"\n",
        "recommendations_df = pd.DataFrame(recommended_products, columns=[\"prod_id\", \"predicted_ratings\"])\n",
        "\n",
        "print(\"Top 5 Recommended Products DataFrame:\")\n",
        "print(recommendations_df)\n"
      ]
    },
    {
      "cell_type": "markdown",
      "metadata": {
        "id": "DHzmYvs0Tsnv"
      },
      "source": [
        "Now as we have seen **similarity-based collaborative filtering algorithms**, let us now get into **model-based collaborative filtering algorithms**."
      ]
    },
    {
      "cell_type": "markdown",
      "metadata": {
        "id": "rKgJpSA9vOOL"
      },
      "source": [
        "### **Model 3: Model-Based Collaborative Filtering - Matrix Factorization**"
      ]
    },
    {
      "cell_type": "markdown",
      "metadata": {
        "id": "YF6ZGyqhCAob"
      },
      "source": [
        "Model-based Collaborative Filtering is a **personalized recommendation system**, the recommendations are based on the past behavior of the user and it is not dependent on any additional information. We use **latent features** to find recommendations for each user."
      ]
    },
    {
      "cell_type": "markdown",
      "metadata": {
        "id": "n4Otha8ovOOL"
      },
      "source": [
        "### Singular Value Decomposition (SVD)"
      ]
    },
    {
      "cell_type": "markdown",
      "metadata": {
        "id": "3sGl3QkLvOOL"
      },
      "source": [
        "SVD is used to **compute the latent features** from the **user-item matrix**. But SVD does not work when we **miss values** in the **user-item matrix**."
      ]
    },
    {
      "cell_type": "code",
      "execution_count": 99,
      "metadata": {
        "id": "07-2PT5Ssjqm",
        "colab": {
          "base_uri": "https://localhost:8080/"
        },
        "outputId": "4a03152b-1b29-4dcb-bc95-ca88671cce30"
      },
      "outputs": [
        {
          "output_type": "stream",
          "name": "stdout",
          "text": [
            "RMSE: 0.8882\n",
            "Precision@10: 0.853\n",
            "Recall@10: 0.88\n",
            "F1-score@10: 0.866\n",
            "RMSE: 0.8882\n"
          ]
        }
      ],
      "source": [
        "# Using SVD matrix factorization. Use random_state = 1\n",
        "from surprise import SVD\n",
        "\n",
        "# Initialize SVD model with random_state = 1 for reproducibility\n",
        "svd_model = SVD(random_state=1)\n",
        "\n",
        "# Training the algorithm on the trainset\n",
        "svd_model.fit(trainset)\n",
        "\n",
        "# Use the function precision_recall_at_k to compute precision@k, recall@k, F1-Score, and RMSE\n",
        "precision_recall_at_k(svd_model, k=10, threshold=3.5)\n",
        "\n",
        "# Predict ratings for the test set and compute RMSE\n",
        "predictions_svd = svd_model.test(testset)\n",
        "rmse_svd = accuracy.rmse(predictions_svd)\n"
      ]
    },
    {
      "cell_type": "markdown",
      "source": [
        "The RMSE of 0.8882 indicates that the SVD model's predicted ratings are quite close to the actual ratings, showing good accuracy. The Precision@10 of 0.853 means that 85.3 percent of the top 10 recommended items are relevant to the user. The Recall@10 of 0.88 shows that the model successfully identifies 88 percent of all relevant items for users. The F1-score@10 of 0.866 represents a strong balance between precision and recall, making the model effective in providing accurate recommendations."
      ],
      "metadata": {
        "id": "YeUXyRXbZgep"
      }
    },
    {
      "cell_type": "markdown",
      "metadata": {
        "id": "J16wEEBccU05"
      },
      "source": [
        "**Let's now predict the rating for a user with `userId = \"A3LDPF5FMB782Z\"` and `prod_id = \"1400501466`.**"
      ]
    },
    {
      "cell_type": "code",
      "execution_count": 103,
      "metadata": {
        "id": "yWIhfdxXsjqm",
        "colab": {
          "base_uri": "https://localhost:8080/"
        },
        "outputId": "b6d3f37a-0166-437e-a9b6-5ca8f34b1f2d"
      },
      "outputs": [
        {
          "output_type": "stream",
          "name": "stdout",
          "text": [
            "Predicted rating for User A3LDPF5FMB782Z on Product 1400501466: 4.08\n"
          ]
        }
      ],
      "source": [
        "# Making prediction\n",
        "user_id = \"A3LDPF5FMB782Z\"\n",
        "prod_id = \"1400501466\"\n",
        "\n",
        "# Predict the rating using the trained SVD model\n",
        "predicted_rating = svd_model.predict(user_id, prod_id)\n",
        "\n",
        "# Display the predicted rating\n",
        "print(f\"Predicted rating for User {user_id} on Product {prod_id}: {predicted_rating.est:.2f}\")\n"
      ]
    },
    {
      "cell_type": "markdown",
      "metadata": {
        "id": "I1aYxVeMnVNM"
      },
      "source": [
        "**Below we are predicting rating for the `userId = \"A34BZM6S9L7QI4\"` and `productId = \"1400501466\"`.**"
      ]
    },
    {
      "cell_type": "code",
      "execution_count": 102,
      "metadata": {
        "id": "APm-uMSvcAMf",
        "colab": {
          "base_uri": "https://localhost:8080/"
        },
        "outputId": "fccb2a11-c7b3-4157-8dfb-fe50aa141629"
      },
      "outputs": [
        {
          "output_type": "stream",
          "name": "stdout",
          "text": [
            "Predicted rating for User A34BZM6S9L7QI4 on Product 1400501466: 4.40\n"
          ]
        }
      ],
      "source": [
        "# Making prediction\n",
        "user_id = \"A34BZM6S9L7QI4\"\n",
        "prod_id = \"1400501466\"\n",
        "\n",
        "# Predict the rating using the trained SVD model\n",
        "predicted_rating = svd_model.predict(user_id, prod_id)\n",
        "\n",
        "# Display the predicted rating\n",
        "print(f\"Predicted rating for User {user_id} on Product {prod_id}: {predicted_rating.est:.2f}\")\n"
      ]
    },
    {
      "cell_type": "markdown",
      "metadata": {
        "id": "x13Eb9Owvpcw"
      },
      "source": [
        "### **Improving Matrix Factorization based recommendation system by tuning its hyperparameters**"
      ]
    },
    {
      "cell_type": "markdown",
      "metadata": {
        "id": "iQcDPhhcnVNN"
      },
      "source": [
        "Below we will be tuning only three hyperparameters:\n",
        "- **n_epochs**: The number of iterations of the SGD algorithm.\n",
        "- **lr_all**: The learning rate for all parameters.\n",
        "- **reg_all**: The regularization term for all parameters."
      ]
    },
    {
      "cell_type": "code",
      "execution_count": 104,
      "metadata": {
        "id": "4bM81V_hvtwv",
        "colab": {
          "base_uri": "https://localhost:8080/"
        },
        "outputId": "726f9c32-1792-4d37-b5e8-fd4c061c10c6"
      },
      "outputs": [
        {
          "output_type": "stream",
          "name": "stdout",
          "text": [
            "Best RMSE Score: 0.9016\n",
            "Best Hyperparameter Combination: {'n_epochs': 30, 'lr_all': 0.005, 'reg_all': 0.1}\n"
          ]
        }
      ],
      "source": [
        "# Set the parameter space to tune\n",
        "from surprise.model_selection import GridSearchCV\n",
        "\n",
        "# Define the parameter grid\n",
        "param_grid = {\n",
        "    \"n_epochs\": [10, 20, 30],  # Number of iterations\n",
        "    \"lr_all\": [0.002, 0.005, 0.01],  # Learning rate\n",
        "    \"reg_all\": [0.02, 0.05, 0.1]  # Regularization term\n",
        "}\n",
        "\n",
        "# Performing 3-fold gridsearch cross-validation\n",
        "gs_svd = GridSearchCV(SVD, param_grid, measures=[\"rmse\"], cv=3, n_jobs=-1)\n",
        "\n",
        "# Fitting data\n",
        "gs_svd.fit(data)\n",
        "\n",
        "# Best RMSE score\n",
        "best_rmse_svd = gs_svd.best_score[\"rmse\"]\n",
        "print(f\"Best RMSE Score: {best_rmse_svd:.4f}\")\n",
        "\n",
        "# Combination of parameters that gave the best RMSE score\n",
        "best_params_svd = gs_svd.best_params[\"rmse\"]\n",
        "print(\"Best Hyperparameter Combination:\", best_params_svd)\n"
      ]
    },
    {
      "cell_type": "markdown",
      "metadata": {
        "id": "KzY78HsrnVNO"
      },
      "source": [
        "Now, we will **the build final model** by using **tuned values** of the hyperparameters, which we received using grid search cross-validation above."
      ]
    },
    {
      "cell_type": "code",
      "execution_count": 105,
      "metadata": {
        "id": "TA_7xe-nnhuu",
        "colab": {
          "base_uri": "https://localhost:8080/"
        },
        "outputId": "dd856332-fd23-4cbd-c719-0312804cf711"
      },
      "outputs": [
        {
          "output_type": "stream",
          "name": "stdout",
          "text": [
            "RMSE: 0.8827\n",
            "Precision@10: 0.854\n",
            "Recall@10: 0.879\n",
            "F1-score@10: 0.866\n",
            "RMSE: 0.8827\n"
          ]
        }
      ],
      "source": [
        "# Build the optimized SVD model using optimal hyperparameter search. Use random_state=1\n",
        "optimal_params_svd = gs_svd.best_params[\"rmse\"]\n",
        "\n",
        "# Initialize the optimized SVD model with best parameters and random_state=1\n",
        "optimized_svd_model = SVD(\n",
        "    n_epochs=optimal_params_svd[\"n_epochs\"],\n",
        "    lr_all=optimal_params_svd[\"lr_all\"],\n",
        "    reg_all=optimal_params_svd[\"reg_all\"],\n",
        "    random_state=1\n",
        ")\n",
        "\n",
        "# Train the algorithm on the trainset\n",
        "# Train the optimized SVD model on the trainset\n",
        "optimized_svd_model.fit(trainset)\n",
        "\n",
        "# Use the function precision_recall_at_k to compute precision@k, recall@k, F1-Score, and RMSE\n",
        "precision_recall_at_k(optimized_svd_model, k=10, threshold=3.5)\n",
        "predictions_optimized_svd = optimized_svd_model.test(testset)\n",
        "rmse_optimized_svd = accuracy.rmse(predictions_optimized_svd)\n"
      ]
    },
    {
      "cell_type": "markdown",
      "source": [
        "The RMSE of 0.8827 indicates that the optimized SVD model's predicted ratings are very close to the actual ratings, showing improved accuracy. The Precision@10 of 0.854 means that 85.4 percent of the top 10 recommended items are relevant to the user. The Recall@10 of 0.879 and F1-score@10 of 0.866 suggest that the model effectively identifies relevant items while maintaining a strong balance between precision and recall."
      ],
      "metadata": {
        "id": "zT28olOHbkC3"
      }
    },
    {
      "cell_type": "markdown",
      "metadata": {
        "id": "cjSAwPBOcU07"
      },
      "source": [
        "### **Steps:**\n",
        "- **Predict rating for the user with `userId=\"A3LDPF5FMB782Z\"`, and `prod_id= \"1400501466\"` using the optimized model**\n",
        "- **Predict rating for `userId=\"A34BZM6S9L7QI4\"` who has not interacted with `prod_id =\"1400501466\"`, by using the optimized model**\n",
        "- **Compare the output with the output from the baseline model**"
      ]
    },
    {
      "cell_type": "code",
      "execution_count": 106,
      "metadata": {
        "id": "ijV9zv4IcU07",
        "colab": {
          "base_uri": "https://localhost:8080/"
        },
        "outputId": "6aa57e97-5b7a-45b0-b524-e61ae8fae997"
      },
      "outputs": [
        {
          "output_type": "stream",
          "name": "stdout",
          "text": [
            "Predicted rating for User A3LDPF5FMB782Z on Product 1400501466: 4.12\n"
          ]
        }
      ],
      "source": [
        "# Define the user ID and product ID\n",
        "user_id = \"A3LDPF5FMB782Z\"\n",
        "prod_id = \"1400501466\"\n",
        "\n",
        "# Predict the rating using the optimized SVD model\n",
        "predicted_rating = optimized_svd_model.predict(user_id, prod_id)\n",
        "\n",
        "# Display the predicted rating\n",
        "print(f\"Predicted rating for User {user_id} on Product {prod_id}: {predicted_rating.est:.2f}\")\n"
      ]
    },
    {
      "cell_type": "code",
      "execution_count": 107,
      "metadata": {
        "id": "OTcYYSgecU07",
        "colab": {
          "base_uri": "https://localhost:8080/"
        },
        "outputId": "fe120a8b-9414-4842-a482-ed2a56e417c1"
      },
      "outputs": [
        {
          "output_type": "stream",
          "name": "stdout",
          "text": [
            "Predicted rating for User A34BZM6S9L7QI4 on Product 1400501466: 4.28\n"
          ]
        }
      ],
      "source": [
        "# Use svd_algo_optimized model to recommend for userId \"A34BZM6S9L7QI4\" and productId \"1400501466\"\n",
        "user_id = \"A34BZM6S9L7QI4\"\n",
        "product_id = \"1400501466\"\n",
        "\n",
        "# Predict the rating using the optimized SVD model\n",
        "predicted_rating = optimized_svd_model.predict(user_id, product_id)\n",
        "\n",
        "# Display the predicted rating\n",
        "print(f\"Predicted rating for User {user_id} on Product {product_id}: {predicted_rating.est:.2f}\")\n"
      ]
    },
    {
      "cell_type": "markdown",
      "metadata": {
        "id": "nnwPwgjB8DwS"
      },
      "source": [
        "### **Conclusion and Recommendations**"
      ]
    },
    {
      "cell_type": "markdown",
      "metadata": {
        "id": "xuqnifw9NF2p"
      },
      "source": [
        "### **Final Conclusion and Recommendations**\n",
        "\n",
        "#### **Conclusions:**\n",
        "- The project successfully builds and evaluates multiple recommendation models using **Amazon product review data**.\n",
        "- Three primary recommendation techniques were implemented: **Rank-Based**, **User-User Similarity-Based**, and **Item-Item Similarity-Based** recommendation systems.\n",
        "- The **collaborative filtering models (User-User and Item-Item KNN)** show reasonable performance but can be affected by data sparsity.\n",
        "- **Matrix factorization (SVD) outperformed other models** in terms of RMSE, Precision, and Recall, making it the most accurate recommendation approach.\n",
        "- Hyperparameter tuning using **GridSearchCV** significantly improved the performance of the models.\n",
        "- **RMSE scores were progressively reduced**, indicating better model generalization with tuning.\n",
        "- The **optimized SVD model achieved the best balance** between precision and recall, making it the most effective personalized recommender.\n",
        "\n",
        "#### **Recommendations:**\n",
        "- **Use the SVD model as the primary recommendation system** since it provides the best accuracy and relevance.\n",
        "- **Continue improving hyperparameter tuning** by testing additional values and using advanced search techniques like **Bayesian Optimization**.\n",
        "- **Consider implementing hybrid models** that combine collaborative filtering with content-based recommendations for better personalization.\n",
        "- **Experiment with deep learning-based recommendation systems**, such as **Neural Collaborative Filtering (NCF)**, for potential performance gains.\n",
        "- **Optimize for cold-start problems** by incorporating product metadata or user demographics in the recommendations.\n",
        "- **Deploy the final model** as a web service for real-world applications and test with actual users to refine recommendations.\n"
      ]
    }
  ],
  "metadata": {
    "colab": {
      "provenance": []
    },
    "kernelspec": {
      "display_name": "Python 3 (ipykernel)",
      "language": "python",
      "name": "python3"
    },
    "language_info": {
      "codemirror_mode": {
        "name": "ipython",
        "version": 3
      },
      "file_extension": ".py",
      "mimetype": "text/x-python",
      "name": "python",
      "nbconvert_exporter": "python",
      "pygments_lexer": "ipython3",
      "version": "3.9.7"
    }
  },
  "nbformat": 4,
  "nbformat_minor": 0
}